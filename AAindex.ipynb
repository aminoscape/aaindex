{
  "nbformat": 4,
  "nbformat_minor": 0,
  "metadata": {
    "colab": {
      "name": "AAindex.ipynb",
      "provenance": [],
      "collapsed_sections": [],
      "authorship_tag": "ABX9TyMnAZrD6ejQFp1C6mfBDy9Z",
      "include_colab_link": true
    },
    "kernelspec": {
      "display_name": "Python 3",
      "name": "python3"
    },
    "language_info": {
      "name": "python"
    },
    "widgets": {
      "application/vnd.jupyter.widget-state+json": {
        "b3b3c982109e492692bbb0711b4e482f": {
          "model_module": "@jupyter-widgets/controls",
          "model_name": "VBoxModel",
          "state": {
            "_view_name": "VBoxView",
            "_dom_classes": [],
            "_model_name": "VBoxModel",
            "_view_module": "@jupyter-widgets/controls",
            "_model_module_version": "1.5.0",
            "_view_count": null,
            "_view_module_version": "1.5.0",
            "box_style": "",
            "layout": "IPY_MODEL_aa2a191597ef4013aabdcd2eb774f9ba",
            "_model_module": "@jupyter-widgets/controls",
            "children": [
              "IPY_MODEL_e8e15d4ef46943cab8f9ad82d1e72a77",
              "IPY_MODEL_db5a3e8bb349405cb95523127a7b1bf2"
            ]
          }
        },
        "aa2a191597ef4013aabdcd2eb774f9ba": {
          "model_module": "@jupyter-widgets/base",
          "model_name": "LayoutModel",
          "state": {
            "_view_name": "LayoutView",
            "grid_template_rows": null,
            "right": null,
            "justify_content": null,
            "_view_module": "@jupyter-widgets/base",
            "overflow": null,
            "_model_module_version": "1.2.0",
            "_view_count": null,
            "flex_flow": null,
            "width": null,
            "min_width": null,
            "border": null,
            "align_items": null,
            "bottom": null,
            "_model_module": "@jupyter-widgets/base",
            "top": null,
            "grid_column": null,
            "overflow_y": null,
            "overflow_x": null,
            "grid_auto_flow": null,
            "grid_area": null,
            "grid_template_columns": null,
            "flex": null,
            "_model_name": "LayoutModel",
            "justify_items": null,
            "grid_row": null,
            "max_height": null,
            "align_content": null,
            "visibility": null,
            "align_self": null,
            "height": null,
            "min_height": null,
            "padding": null,
            "grid_auto_rows": null,
            "grid_gap": null,
            "max_width": null,
            "order": null,
            "_view_module_version": "1.2.0",
            "grid_template_areas": null,
            "object_position": null,
            "object_fit": null,
            "grid_auto_columns": null,
            "margin": null,
            "display": null,
            "left": null
          }
        },
        "e8e15d4ef46943cab8f9ad82d1e72a77": {
          "model_module": "@jupyter-widgets/controls",
          "model_name": "LabelModel",
          "state": {
            "_view_name": "LabelView",
            "style": "IPY_MODEL_b2027f2b05934f9a9b50144b29f3ef7d",
            "_dom_classes": [],
            "description": "",
            "_model_name": "LabelModel",
            "placeholder": "​",
            "_view_module": "@jupyter-widgets/controls",
            "_model_module_version": "1.5.0",
            "value": " 0.02MB of 0.02MB uploaded (0.00MB deduped)\r",
            "_view_count": null,
            "_view_module_version": "1.5.0",
            "description_tooltip": null,
            "_model_module": "@jupyter-widgets/controls",
            "layout": "IPY_MODEL_e8a4013cf20741e3b7e98d57ccf47e86"
          }
        },
        "db5a3e8bb349405cb95523127a7b1bf2": {
          "model_module": "@jupyter-widgets/controls",
          "model_name": "FloatProgressModel",
          "state": {
            "_view_name": "ProgressView",
            "style": "IPY_MODEL_e0357746b24847d4ba8147cec55eece6",
            "_dom_classes": [],
            "description": "",
            "_model_name": "FloatProgressModel",
            "bar_style": "",
            "max": 1,
            "_view_module": "@jupyter-widgets/controls",
            "_model_module_version": "1.5.0",
            "value": 1,
            "_view_count": null,
            "_view_module_version": "1.5.0",
            "orientation": "horizontal",
            "min": 0,
            "description_tooltip": null,
            "_model_module": "@jupyter-widgets/controls",
            "layout": "IPY_MODEL_e85fb77143ca4f119f90a01a48d39aa9"
          }
        },
        "b2027f2b05934f9a9b50144b29f3ef7d": {
          "model_module": "@jupyter-widgets/controls",
          "model_name": "DescriptionStyleModel",
          "state": {
            "_view_name": "StyleView",
            "_model_name": "DescriptionStyleModel",
            "description_width": "",
            "_view_module": "@jupyter-widgets/base",
            "_model_module_version": "1.5.0",
            "_view_count": null,
            "_view_module_version": "1.2.0",
            "_model_module": "@jupyter-widgets/controls"
          }
        },
        "e8a4013cf20741e3b7e98d57ccf47e86": {
          "model_module": "@jupyter-widgets/base",
          "model_name": "LayoutModel",
          "state": {
            "_view_name": "LayoutView",
            "grid_template_rows": null,
            "right": null,
            "justify_content": null,
            "_view_module": "@jupyter-widgets/base",
            "overflow": null,
            "_model_module_version": "1.2.0",
            "_view_count": null,
            "flex_flow": null,
            "width": null,
            "min_width": null,
            "border": null,
            "align_items": null,
            "bottom": null,
            "_model_module": "@jupyter-widgets/base",
            "top": null,
            "grid_column": null,
            "overflow_y": null,
            "overflow_x": null,
            "grid_auto_flow": null,
            "grid_area": null,
            "grid_template_columns": null,
            "flex": null,
            "_model_name": "LayoutModel",
            "justify_items": null,
            "grid_row": null,
            "max_height": null,
            "align_content": null,
            "visibility": null,
            "align_self": null,
            "height": null,
            "min_height": null,
            "padding": null,
            "grid_auto_rows": null,
            "grid_gap": null,
            "max_width": null,
            "order": null,
            "_view_module_version": "1.2.0",
            "grid_template_areas": null,
            "object_position": null,
            "object_fit": null,
            "grid_auto_columns": null,
            "margin": null,
            "display": null,
            "left": null
          }
        },
        "e0357746b24847d4ba8147cec55eece6": {
          "model_module": "@jupyter-widgets/controls",
          "model_name": "ProgressStyleModel",
          "state": {
            "_view_name": "StyleView",
            "_model_name": "ProgressStyleModel",
            "description_width": "",
            "_view_module": "@jupyter-widgets/base",
            "_model_module_version": "1.5.0",
            "_view_count": null,
            "_view_module_version": "1.2.0",
            "bar_color": null,
            "_model_module": "@jupyter-widgets/controls"
          }
        },
        "e85fb77143ca4f119f90a01a48d39aa9": {
          "model_module": "@jupyter-widgets/base",
          "model_name": "LayoutModel",
          "state": {
            "_view_name": "LayoutView",
            "grid_template_rows": null,
            "right": null,
            "justify_content": null,
            "_view_module": "@jupyter-widgets/base",
            "overflow": null,
            "_model_module_version": "1.2.0",
            "_view_count": null,
            "flex_flow": null,
            "width": null,
            "min_width": null,
            "border": null,
            "align_items": null,
            "bottom": null,
            "_model_module": "@jupyter-widgets/base",
            "top": null,
            "grid_column": null,
            "overflow_y": null,
            "overflow_x": null,
            "grid_auto_flow": null,
            "grid_area": null,
            "grid_template_columns": null,
            "flex": null,
            "_model_name": "LayoutModel",
            "justify_items": null,
            "grid_row": null,
            "max_height": null,
            "align_content": null,
            "visibility": null,
            "align_self": null,
            "height": null,
            "min_height": null,
            "padding": null,
            "grid_auto_rows": null,
            "grid_gap": null,
            "max_width": null,
            "order": null,
            "_view_module_version": "1.2.0",
            "grid_template_areas": null,
            "object_position": null,
            "object_fit": null,
            "grid_auto_columns": null,
            "margin": null,
            "display": null,
            "left": null
          }
        }
      }
    }
  },
  "cells": [
    {
      "cell_type": "markdown",
      "metadata": {
        "id": "view-in-github",
        "colab_type": "text"
      },
      "source": [
        "<a href=\"https://colab.research.google.com/github/aminoscape/aaindex/blob/main/AAindex.ipynb\" target=\"_parent\"><img src=\"https://colab.research.google.com/assets/colab-badge.svg\" alt=\"Open In Colab\"/></a>"
      ]
    },
    {
      "cell_type": "markdown",
      "metadata": {
        "id": "OPJID_ZeFjdw"
      },
      "source": [
        "## AAIndex package from Pymol scripts"
      ]
    },
    {
      "cell_type": "code",
      "metadata": {
        "colab": {
          "base_uri": "https://localhost:8080/"
        },
        "id": "7bQasVTA2UD2",
        "outputId": "a1923b31-18f5-45a9-c28e-4a3fc28632dc"
      },
      "source": [
        "!wget -O aaindex.py https://raw.githubusercontent.com/Pymol-Scripts/Pymol-script-repo/master/aaindex.py"
      ],
      "execution_count": null,
      "outputs": [
        {
          "output_type": "stream",
          "text": [
            "--2021-08-08 18:23:01--  https://raw.githubusercontent.com/Pymol-Scripts/Pymol-script-repo/master/aaindex.py\n",
            "Resolving raw.githubusercontent.com (raw.githubusercontent.com)... 185.199.108.133, 185.199.109.133, 185.199.110.133, ...\n",
            "Connecting to raw.githubusercontent.com (raw.githubusercontent.com)|185.199.108.133|:443... connected.\n",
            "HTTP request sent, awaiting response... 200 OK\n",
            "Length: 14318 (14K) [text/plain]\n",
            "Saving to: ‘aaindex.py’\n",
            "\n",
            "\raaindex.py            0%[                    ]       0  --.-KB/s               \raaindex.py          100%[===================>]  13.98K  --.-KB/s    in 0.001s  \n",
            "\n",
            "2021-08-08 18:23:01 (22.3 MB/s) - ‘aaindex.py’ saved [14318/14318]\n",
            "\n"
          ],
          "name": "stdout"
        }
      ]
    },
    {
      "cell_type": "code",
      "metadata": {
        "colab": {
          "base_uri": "https://localhost:8080/"
        },
        "id": "aTxiUqRy26zf",
        "outputId": "51230bdd-902f-4289-94dd-06432e4ea2ea"
      },
      "source": [
        "!wget -O aaindex1 https://www.genome.jp/ftp/db/community/aaindex/aaindex1"
      ],
      "execution_count": null,
      "outputs": [
        {
          "output_type": "stream",
          "text": [
            "--2021-08-08 18:02:48--  https://www.genome.jp/ftp/db/community/aaindex/aaindex1\n",
            "Resolving www.genome.jp (www.genome.jp)... 133.103.200.20\n",
            "Connecting to www.genome.jp (www.genome.jp)|133.103.200.20|:443... connected.\n",
            "HTTP request sent, awaiting response... 200 OK\n",
            "Length: unspecified [text/plain]\n",
            "Saving to: ‘aaindex1’\n",
            "\n",
            "aaindex1                [       <=>          ] 540.98K   279KB/s    in 1.9s    \n",
            "\n",
            "2021-08-08 18:02:51 (279 KB/s) - ‘aaindex1’ saved [553966]\n",
            "\n"
          ],
          "name": "stdout"
        }
      ]
    },
    {
      "cell_type": "code",
      "metadata": {
        "id": "jo7BjXDw2zM6"
      },
      "source": [
        "%load aaindex.py\n",
        "import aaindex"
      ],
      "execution_count": null,
      "outputs": []
    },
    {
      "cell_type": "code",
      "metadata": {
        "id": "oe_NLCLV7e1K"
      },
      "source": [
        "aaindex.init(path='.')"
      ],
      "execution_count": null,
      "outputs": []
    },
    {
      "cell_type": "code",
      "metadata": {
        "colab": {
          "base_uri": "https://localhost:8080/"
        },
        "id": "jIKk5uQRBz6A",
        "outputId": "e6ecaf38-da0f-412a-e299-5caae70bc503"
      },
      "source": [
        "# Results from running: aaindex.grep('Hydrophobicity')\n",
        "indices = ['ARGP820101', 'BIGC670101', 'BULH740101', 'BULH740102', 'CHAM820101', 'CHAM820102', 'CIDH920101', 'CIDH920102', 'CIDH920103', 'CIDH920104', 'CIDH920105', 'EISD840101', 'GOLD730101', 'JOND750101', 'KANM800101', 'KANM800102', 'KANM800103', 'KANM800104', 'MANP780101', 'MEIH800101', 'MEIH800102', 'MEIH800103', 'NAKH900101', 'NAKH900102', 'NAKH900103', 'NAKH900104', 'NAKH900105', 'NAKH900106', 'NAKH900107', 'NAKH900108', 'NAKH900109', 'NAKH900110', 'NAKH900111', 'NAKH900112', 'NAKH900113', 'PONP800101', 'PONP800102', 'PONP800103', 'PONP800104', 'PONP800105', 'PONP800106', 'PRAM900101', 'RACS770101', 'RACS770102', 'RACS770103', 'ROSG850101', 'ROSG850102', 'SWER830101', 'VENT840101', 'YUTK870101', 'YUTK870102', 'YUTK870103', 'YUTK870104', 'ZASB820101', 'ZIMJ680101', 'WIMW960101', 'PONP930101', 'WILM950101', 'WILM950102', 'WILM950103', 'WILM950104', 'JURD980101', 'BASU050101', 'BASU050102', 'BASU050103', 'WOLR790101', 'KIDA850101', 'COWR900101', 'BLAS910101', 'CASG920101', 'CORJ870101', 'CORJ870102', 'CORJ870103', 'CORJ870104', 'CORJ870105', 'CORJ870106', 'CORJ870107', 'CORJ870108', 'ENGD860101', 'FASG890101' ]\n",
        "for idx in indices:\n",
        "  x = aaindex.get(idx)\n",
        "  print(x.get('A'))"
      ],
      "execution_count": null,
      "outputs": [
        {
          "output_type": "stream",
          "text": [
            "0.61\n",
            "52.6\n",
            "-0.2\n",
            "0.691\n",
            "0.046\n",
            "-0.368\n",
            "-0.45\n",
            "-0.08\n",
            "0.36\n",
            "0.17\n",
            "0.02\n",
            "0.25\n",
            "0.75\n",
            "0.87\n",
            "1.36\n",
            "0.81\n",
            "1.45\n",
            "0.75\n",
            "12.97\n",
            "0.93\n",
            "0.94\n",
            "87.0\n",
            "7.99\n",
            "3.73\n",
            "5.74\n",
            "-0.6\n",
            "5.88\n",
            "-0.57\n",
            "5.39\n",
            "-0.7\n",
            "9.25\n",
            "0.34\n",
            "10.17\n",
            "6.61\n",
            "1.61\n",
            "12.28\n",
            "7.62\n",
            "2.63\n",
            "13.65\n",
            "14.6\n",
            "10.67\n",
            "-6.7\n",
            "0.934\n",
            "0.941\n",
            "1.16\n",
            "86.6\n",
            "0.74\n",
            "-0.4\n",
            "0.0\n",
            "8.5\n",
            "6.8\n",
            "18.08\n",
            "18.56\n",
            "-0.152\n",
            "0.83\n",
            "4.08\n",
            "0.85\n",
            "0.06\n",
            "2.62\n",
            "-1.64\n",
            "-2.34\n",
            "1.1\n",
            "0.1366\n",
            "0.0728\n",
            "0.151\n",
            "1.12\n",
            "-0.27\n",
            "0.42\n",
            "0.616\n",
            "0.2\n",
            "50.76\n",
            "-0.414\n",
            "-0.96\n",
            "-0.26\n",
            "-0.73\n",
            "-1.35\n",
            "-0.56\n",
            "1.37\n",
            "-1.6\n",
            "-0.21\n"
          ],
          "name": "stdout"
        }
      ]
    },
    {
      "cell_type": "code",
      "metadata": {
        "colab": {
          "base_uri": "https://localhost:8080/"
        },
        "id": "YgNjK4vyCaHf",
        "outputId": "0093b5c6-c5f0-4263-ac09-e31dc30e6fac"
      },
      "source": [
        "x = aaindex.get('KRIW790103')\n",
        "print(x)"
      ],
      "execution_count": null,
      "outputs": [
        {
          "output_type": "stream",
          "text": [
            "Record(KRIW790103: Side chain volume (Krigbaum-Komoriya, 1979))\n"
          ],
          "name": "stdout"
        }
      ]
    },
    {
      "cell_type": "code",
      "metadata": {
        "id": "IeyZF45MCzJb"
      },
      "source": [
        "!pip install -q condacolab"
      ],
      "execution_count": null,
      "outputs": []
    },
    {
      "cell_type": "code",
      "metadata": {
        "colab": {
          "base_uri": "https://localhost:8080/"
        },
        "id": "TxYzdAGjH3mn",
        "outputId": "5dcfcc56-0e40-46f5-85ed-cf56c8501ca4"
      },
      "source": [
        "import condacolab\n",
        "condacolab.install()"
      ],
      "execution_count": null,
      "outputs": [
        {
          "output_type": "stream",
          "text": [
            "⏬ Downloading https://github.com/jaimergp/miniforge/releases/latest/download/Mambaforge-colab-Linux-x86_64.sh...\n",
            "📦 Installing...\n",
            "📌 Adjusting configuration...\n",
            "🩹 Patching environment...\n",
            "⏲ Done in 0:00:39\n",
            "🔁 Restarting kernel...\n"
          ],
          "name": "stdout"
        }
      ]
    },
    {
      "cell_type": "code",
      "metadata": {
        "colab": {
          "base_uri": "https://localhost:8080/"
        },
        "id": "xcaNqngpHQOQ",
        "outputId": "267fa6cd-605f-42d9-89d4-09678c26763b"
      },
      "source": [
        "!conda install -c schrodinger pymol-bundle"
      ],
      "execution_count": null,
      "outputs": [
        {
          "output_type": "stream",
          "text": [
            "Collecting package metadata (current_repodata.json): - \b\b\\ \b\b| \b\b/ \b\b- \b\b\\ \b\b| \b\b/ \b\b- \b\b\\ \b\b| \b\b/ \b\b- \b\b\\ \b\b| \b\b/ \b\b- \b\b\\ \b\b| \b\b/ \b\b- \b\b\\ \b\b| \b\b/ \b\b- \b\b\\ \b\b| \b\b/ \b\b- \b\b\\ \b\b| \b\b/ \b\b- \b\b\\ \b\b| \b\b/ \b\b- \b\b\\ \b\b| \b\b/ \b\b- \b\b\\ \b\b| \b\b/ \b\b- \b\b\\ \b\b| \b\b/ \b\b- \b\b\\ \b\b| \b\b/ \b\b- \b\b\\ \b\b| \b\b/ \b\b- \b\b\\ \b\b| \b\b/ \b\b- \b\b\\ \b\b| \b\b/ \b\b- \b\b\\ \b\b| \b\b/ \b\b- \b\b\\ \b\b| \b\b/ \b\b- \b\b\\ \b\b| \b\b/ \b\b- \b\b\\ \b\b| \b\b/ \b\b- \b\b\\ \b\b| \b\bdone\n",
            "Solving environment: - \b\b\\ \b\b| \b\b/ \b\b- \b\b\\ \b\b| \b\b/ \b\b- \b\b\\ \b\b| \b\b/ \b\b- \b\b\\ \b\b| \b\b/ \b\b- \b\b\\ \b\b| \b\b/ \b\b- \b\b\\ \b\b| \b\b/ \b\b- \b\b\\ \b\b| \b\b/ \b\b- \b\b\\ \b\b| \b\b/ \b\b- \b\b\\ \b\b| \b\b/ \b\b- \b\b\\ \b\b| \b\b/ \b\b- \b\b\\ \b\b| \b\b/ \b\b- \b\b\\ \b\b| \b\b/ \b\b- \b\b\\ \b\b| \b\b/ \b\b- \b\b\\ \b\b| \b\b/ \b\b- \b\b\\ \b\b| \b\b/ \b\b- \b\b\\ \b\b| \b\b/ \b\b- \b\b\\ \b\b| \b\b/ \b\b- \b\b\\ \b\b| \b\b/ \b\b- \b\b\\ \b\b| \b\b/ \b\b- \b\b\\ \b\b| \b\b/ \b\b- \b\b\\ \b\b| \b\b/ \b\b- \b\b\\ \b\bdone\n",
            "\n",
            "## Package Plan ##\n",
            "\n",
            "  environment location: /usr/local\n",
            "\n",
            "  added / updated specs:\n",
            "    - pymol-bundle\n",
            "\n",
            "\n",
            "The following packages will be downloaded:\n",
            "\n",
            "    package                    |            build\n",
            "    ---------------------------|-----------------\n",
            "    alsa-lib-1.2.3             |       h516909a_0         560 KB  conda-forge\n",
            "    apbs-1.5                   |       h14c3975_3         277 KB  schrodinger\n",
            "    biopython-1.79             |   py37h5e8e339_0         2.6 MB  conda-forge\n",
            "    ca-certificates-2021.5.30  |       ha878542_0         136 KB  conda-forge\n",
            "    cached-property-1.5.2      |       hd8ed1ab_1           4 KB  conda-forge\n",
            "    cached_property-1.5.2      |     pyha770c72_1          11 KB  conda-forge\n",
            "    certifi-2021.5.30          |   py37h89c1867_0         141 KB  conda-forge\n",
            "    collada2gltf-2.1.4         |       h6bb024c_0         3.2 MB  schrodinger\n",
            "    conda-4.10.3               |   py37h89c1867_0         3.1 MB  conda-forge\n",
            "    cudatoolkit-11.0.3         |       h15472ef_8       951.9 MB  conda-forge\n",
            "    curl-7.78.0                |       hea6ffbf_0         148 KB  conda-forge\n",
            "    dbus-1.13.6                |       h48d8840_2         572 KB  conda-forge\n",
            "    expat-2.4.1                |       h9c3ff4c_0         182 KB  conda-forge\n",
            "    fontconfig-2.13.1          |    hba837de_1005         357 KB  conda-forge\n",
            "    freetype-2.10.4            |       h0708190_1         890 KB  conda-forge\n",
            "    gettext-0.19.8.1           |    h0b5b191_1005         3.6 MB  conda-forge\n",
            "    glew-2.1.0                 |       h9c3ff4c_2         647 KB  conda-forge\n",
            "    glib-2.68.3                |       h9c3ff4c_0         449 KB  conda-forge\n",
            "    glib-tools-2.68.3          |       h9c3ff4c_0          86 KB  conda-forge\n",
            "    gst-plugins-base-1.18.4    |       hf529b03_2         2.6 MB  conda-forge\n",
            "    gstreamer-1.18.4           |       h76c114f_2         2.0 MB  conda-forge\n",
            "    h5py-3.3.0                 |nompi_py37ha3df211_100         1.3 MB  conda-forge\n",
            "    hdf4-4.2.15                |       h10796ff_3         950 KB  conda-forge\n",
            "    hdf5-1.10.6                |nompi_h7c3c948_1111         3.1 MB  conda-forge\n",
            "    jpeg-9d                    |       h36c2ea0_0         264 KB  conda-forge\n",
            "    krb5-1.19.2                |       hcc1bbae_0         1.4 MB  conda-forge\n",
            "    libblas-3.9.0              |       8_openblas          11 KB  conda-forge\n",
            "    libcblas-3.9.0             |       8_openblas          11 KB  conda-forge\n",
            "    libclang-11.1.0            |default_ha53f305_1        19.2 MB  conda-forge\n",
            "    libcurl-7.78.0             |       h2574ce0_0         335 KB  conda-forge\n",
            "    libevent-2.1.10            |       hcdb4288_3         1.1 MB  conda-forge\n",
            "    libgfortran-ng-7.5.0       |      h14aa051_19          22 KB  conda-forge\n",
            "    libgfortran4-7.5.0         |      h14aa051_19         1.3 MB  conda-forge\n",
            "    libglib-2.68.3             |       h3e27bee_0         3.1 MB  conda-forge\n",
            "    libglu-9.0.0               |    he1b5a44_1001         413 KB  conda-forge\n",
            "    libholoplaycore-0.1.0_rc4  |                1         325 KB  schrodinger\n",
            "    liblapack-3.9.0            |       8_openblas          11 KB  conda-forge\n",
            "    libllvm11-11.1.0           |       hf817b99_2        29.1 MB  conda-forge\n",
            "    libnetcdf-4.8.0            |nompi_hcd642e3_103         1.5 MB  conda-forge\n",
            "    libogg-1.3.4               |       h7f98852_1         206 KB  conda-forge\n",
            "    libopenblas-0.3.12         |pthreads_hb3c22a3_1         8.2 MB  conda-forge\n",
            "    libopus-1.3.1              |       h7f98852_1         255 KB  conda-forge\n",
            "    libpng-1.6.37              |       h21135ba_2         306 KB  conda-forge\n",
            "    libpq-13.3                 |       hd57d9b9_0         2.7 MB  conda-forge\n",
            "    libtiff-4.0.10             |    hc3755c2_1005         602 KB  conda-forge\n",
            "    libuuid-2.32.1             |    h7f98852_1000          28 KB  conda-forge\n",
            "    libvorbis-1.3.7            |       h9c3ff4c_0         280 KB  conda-forge\n",
            "    libxcb-1.13                |    h7f98852_1003         395 KB  conda-forge\n",
            "    libxkbcommon-1.0.3         |       he3ba5ed_0         581 KB  conda-forge\n",
            "    libzip-1.8.0               |       h4de3113_0         127 KB  conda-forge\n",
            "    mengine-1                  |       h14c3975_1         676 KB  schrodinger\n",
            "    mpeg_encode-1              |       h14c3975_1         106 KB  schrodinger\n",
            "    mtz2ccp4_px-1.0            |       h9ac9557_3         547 KB  schrodinger\n",
            "    mysql-common-8.0.25        |       ha770c72_0         1.5 MB  conda-forge\n",
            "    mysql-libs-8.0.25          |       h935591d_0         1.8 MB  conda-forge\n",
            "    nspr-4.30                  |       h9c3ff4c_0         233 KB  conda-forge\n",
            "    nss-3.67                   |       hb5efdd6_0         2.1 MB  conda-forge\n",
            "    numpy-1.21.1               |   py37h038b26d_0         6.1 MB  conda-forge\n",
            "    olefile-0.46               |     pyh9f0ad1d_1          32 KB  conda-forge\n",
            "    openssl-1.1.1k             |       h7f98852_0         2.1 MB  conda-forge\n",
            "    pcre-8.45                  |       h9c3ff4c_0         253 KB  conda-forge\n",
            "    pdb2pqr-2.1.2+pymol        |             py_0         236 KB  schrodinger\n",
            "    pillow-6.2.1               |   py37h6b7be26_0         637 KB  conda-forge\n",
            "    pmw-2.0.1+3                |             py_3          60 KB  schrodinger\n",
            "    pthread-stubs-0.4          |    h36c2ea0_1001           5 KB  conda-forge\n",
            "    pycollada-0.7.1+bdf414c7   |             py_1          80 KB  schrodinger\n",
            "    pykerberos-1.2.1           |   py37hba6306b_5          27 KB  conda-forge\n",
            "    pymol-2.5.1                |   py37hfb9253f_0         9.2 MB  schrodinger\n",
            "    pymol-bundle-2.5.1         |                0          17 KB  schrodinger\n",
            "    pymol-web-examples-2.4     |                1         1.9 MB  schrodinger\n",
            "    pyqt-5.12.3                |   py37h89c1867_7          21 KB  conda-forge\n",
            "    pyqt-impl-5.12.3           |   py37he336c9b_7         5.9 MB  conda-forge\n",
            "    pyqt5-sip-4.19.18          |   py37hcd2ae1e_7         310 KB  conda-forge\n",
            "    pyqtchart-5.12             |   py37he336c9b_7         256 KB  conda-forge\n",
            "    pyqtwebengine-5.12.1       |   py37he336c9b_7         175 KB  conda-forge\n",
            "    python-dateutil-2.8.2      |     pyhd8ed1ab_0         240 KB  conda-forge\n",
            "    python_abi-3.7             |          2_cp37m           4 KB  conda-forge\n",
            "    qt-5.12.9                  |       hda022c4_4        99.5 MB  conda-forge\n",
            "    readline-8.1               |       h46c0cb4_0         295 KB  conda-forge\n",
            "    rigimol-1.3                |                2         489 KB  schrodinger\n",
            "    sqlite-3.36.0              |       h9cd32fc_0         1.4 MB  conda-forge\n",
            "    vtk-m-1.5.1                |       hf484d3e_1         4.8 MB  schrodinger\n",
            "    xorg-kbproto-1.0.7         |    h7f98852_1002          27 KB  conda-forge\n",
            "    xorg-libx11-1.7.2          |       h7f98852_0         941 KB  conda-forge\n",
            "    xorg-libxau-1.0.9          |       h7f98852_0          13 KB  conda-forge\n",
            "    xorg-libxdmcp-1.1.3        |       h7f98852_0          19 KB  conda-forge\n",
            "    xorg-libxext-1.3.4         |       h7f98852_1          54 KB  conda-forge\n",
            "    xorg-xextproto-7.3.0       |    h7f98852_1002          28 KB  conda-forge\n",
            "    xorg-xproto-7.0.31         |    h7f98852_1007          73 KB  conda-forge\n",
            "    ------------------------------------------------------------\n",
            "                                           Total:        1.16 GB\n",
            "\n",
            "The following NEW packages will be INSTALLED:\n",
            "\n",
            "  alsa-lib           conda-forge/linux-64::alsa-lib-1.2.3-h516909a_0\n",
            "  apbs               schrodinger/linux-64::apbs-1.5-h14c3975_3\n",
            "  biopython          conda-forge/linux-64::biopython-1.79-py37h5e8e339_0\n",
            "  cached-property    conda-forge/noarch::cached-property-1.5.2-hd8ed1ab_1\n",
            "  cached_property    conda-forge/noarch::cached_property-1.5.2-pyha770c72_1\n",
            "  collada2gltf       schrodinger/linux-64::collada2gltf-2.1.4-h6bb024c_0\n",
            "  cudatoolkit        conda-forge/linux-64::cudatoolkit-11.0.3-h15472ef_8\n",
            "  curl               conda-forge/linux-64::curl-7.78.0-hea6ffbf_0\n",
            "  dbus               conda-forge/linux-64::dbus-1.13.6-h48d8840_2\n",
            "  expat              conda-forge/linux-64::expat-2.4.1-h9c3ff4c_0\n",
            "  fontconfig         conda-forge/linux-64::fontconfig-2.13.1-hba837de_1005\n",
            "  freetype           conda-forge/linux-64::freetype-2.10.4-h0708190_1\n",
            "  gettext            conda-forge/linux-64::gettext-0.19.8.1-h0b5b191_1005\n",
            "  glew               conda-forge/linux-64::glew-2.1.0-h9c3ff4c_2\n",
            "  glib               conda-forge/linux-64::glib-2.68.3-h9c3ff4c_0\n",
            "  glib-tools         conda-forge/linux-64::glib-tools-2.68.3-h9c3ff4c_0\n",
            "  gst-plugins-base   conda-forge/linux-64::gst-plugins-base-1.18.4-hf529b03_2\n",
            "  gstreamer          conda-forge/linux-64::gstreamer-1.18.4-h76c114f_2\n",
            "  h5py               conda-forge/linux-64::h5py-3.3.0-nompi_py37ha3df211_100\n",
            "  hdf4               conda-forge/linux-64::hdf4-4.2.15-h10796ff_3\n",
            "  hdf5               conda-forge/linux-64::hdf5-1.10.6-nompi_h7c3c948_1111\n",
            "  jpeg               conda-forge/linux-64::jpeg-9d-h36c2ea0_0\n",
            "  libblas            conda-forge/linux-64::libblas-3.9.0-8_openblas\n",
            "  libcblas           conda-forge/linux-64::libcblas-3.9.0-8_openblas\n",
            "  libclang           conda-forge/linux-64::libclang-11.1.0-default_ha53f305_1\n",
            "  libevent           conda-forge/linux-64::libevent-2.1.10-hcdb4288_3\n",
            "  libgfortran-ng     conda-forge/linux-64::libgfortran-ng-7.5.0-h14aa051_19\n",
            "  libgfortran4       conda-forge/linux-64::libgfortran4-7.5.0-h14aa051_19\n",
            "  libglib            conda-forge/linux-64::libglib-2.68.3-h3e27bee_0\n",
            "  libglu             conda-forge/linux-64::libglu-9.0.0-he1b5a44_1001\n",
            "  libholoplaycore    schrodinger/linux-64::libholoplaycore-0.1.0_rc4-1\n",
            "  liblapack          conda-forge/linux-64::liblapack-3.9.0-8_openblas\n",
            "  libllvm11          conda-forge/linux-64::libllvm11-11.1.0-hf817b99_2\n",
            "  libnetcdf          conda-forge/linux-64::libnetcdf-4.8.0-nompi_hcd642e3_103\n",
            "  libogg             conda-forge/linux-64::libogg-1.3.4-h7f98852_1\n",
            "  libopenblas        conda-forge/linux-64::libopenblas-0.3.12-pthreads_hb3c22a3_1\n",
            "  libopus            conda-forge/linux-64::libopus-1.3.1-h7f98852_1\n",
            "  libpng             conda-forge/linux-64::libpng-1.6.37-h21135ba_2\n",
            "  libpq              conda-forge/linux-64::libpq-13.3-hd57d9b9_0\n",
            "  libtiff            conda-forge/linux-64::libtiff-4.0.10-hc3755c2_1005\n",
            "  libuuid            conda-forge/linux-64::libuuid-2.32.1-h7f98852_1000\n",
            "  libvorbis          conda-forge/linux-64::libvorbis-1.3.7-h9c3ff4c_0\n",
            "  libxcb             conda-forge/linux-64::libxcb-1.13-h7f98852_1003\n",
            "  libxkbcommon       conda-forge/linux-64::libxkbcommon-1.0.3-he3ba5ed_0\n",
            "  libzip             conda-forge/linux-64::libzip-1.8.0-h4de3113_0\n",
            "  mengine            schrodinger/linux-64::mengine-1-h14c3975_1\n",
            "  mpeg_encode        schrodinger/linux-64::mpeg_encode-1-h14c3975_1\n",
            "  mtz2ccp4_px        schrodinger/linux-64::mtz2ccp4_px-1.0-h9ac9557_3\n",
            "  mysql-common       conda-forge/linux-64::mysql-common-8.0.25-ha770c72_0\n",
            "  mysql-libs         conda-forge/linux-64::mysql-libs-8.0.25-h935591d_0\n",
            "  nspr               conda-forge/linux-64::nspr-4.30-h9c3ff4c_0\n",
            "  nss                conda-forge/linux-64::nss-3.67-hb5efdd6_0\n",
            "  numpy              conda-forge/linux-64::numpy-1.21.1-py37h038b26d_0\n",
            "  olefile            conda-forge/noarch::olefile-0.46-pyh9f0ad1d_1\n",
            "  pcre               conda-forge/linux-64::pcre-8.45-h9c3ff4c_0\n",
            "  pdb2pqr            schrodinger/noarch::pdb2pqr-2.1.2+pymol-py_0\n",
            "  pillow             conda-forge/linux-64::pillow-6.2.1-py37h6b7be26_0\n",
            "  pmw                schrodinger/noarch::pmw-2.0.1+3-py_3\n",
            "  pthread-stubs      conda-forge/linux-64::pthread-stubs-0.4-h36c2ea0_1001\n",
            "  pycollada          schrodinger/noarch::pycollada-0.7.1+bdf414c7-py_1\n",
            "  pykerberos         conda-forge/linux-64::pykerberos-1.2.1-py37hba6306b_5\n",
            "  pymol              schrodinger/linux-64::pymol-2.5.1-py37hfb9253f_0\n",
            "  pymol-bundle       schrodinger/linux-64::pymol-bundle-2.5.1-0\n",
            "  pymol-web-examples schrodinger/noarch::pymol-web-examples-2.4-1\n",
            "  pyqt               conda-forge/linux-64::pyqt-5.12.3-py37h89c1867_7\n",
            "  pyqt-impl          conda-forge/linux-64::pyqt-impl-5.12.3-py37he336c9b_7\n",
            "  pyqt5-sip          conda-forge/linux-64::pyqt5-sip-4.19.18-py37hcd2ae1e_7\n",
            "  pyqtchart          conda-forge/linux-64::pyqtchart-5.12-py37he336c9b_7\n",
            "  pyqtwebengine      conda-forge/linux-64::pyqtwebengine-5.12.1-py37he336c9b_7\n",
            "  python-dateutil    conda-forge/noarch::python-dateutil-2.8.2-pyhd8ed1ab_0\n",
            "  qt                 conda-forge/linux-64::qt-5.12.9-hda022c4_4\n",
            "  rigimol            schrodinger/linux-64::rigimol-1.3-2\n",
            "  vtk-m              schrodinger/linux-64::vtk-m-1.5.1-hf484d3e_1\n",
            "  xorg-kbproto       conda-forge/linux-64::xorg-kbproto-1.0.7-h7f98852_1002\n",
            "  xorg-libx11        conda-forge/linux-64::xorg-libx11-1.7.2-h7f98852_0\n",
            "  xorg-libxau        conda-forge/linux-64::xorg-libxau-1.0.9-h7f98852_0\n",
            "  xorg-libxdmcp      conda-forge/linux-64::xorg-libxdmcp-1.1.3-h7f98852_0\n",
            "  xorg-libxext       conda-forge/linux-64::xorg-libxext-1.3.4-h7f98852_1\n",
            "  xorg-xextproto     conda-forge/linux-64::xorg-xextproto-7.3.0-h7f98852_1002\n",
            "  xorg-xproto        conda-forge/linux-64::xorg-xproto-7.0.31-h7f98852_1007\n",
            "\n",
            "The following packages will be UPDATED:\n",
            "\n",
            "  ca-certificates                      2020.12.5-ha878542_0 --> 2021.5.30-ha878542_0\n",
            "  certifi                          2020.12.5-py37h89c1867_1 --> 2021.5.30-py37h89c1867_0\n",
            "  conda                                4.9.2-py37h89c1867_0 --> 4.10.3-py37h89c1867_0\n",
            "  krb5                                    1.17.2-h926e7f8_0 --> 1.19.2-hcc1bbae_0\n",
            "  libcurl                                 7.75.0-hc4aaa36_0 --> 7.78.0-h2574ce0_0\n",
            "  openssl                                 1.1.1j-h7f98852_0 --> 1.1.1k-h7f98852_0\n",
            "  python_abi                                    3.7-1_cp37m --> 3.7-2_cp37m\n",
            "  readline                                   8.0-he28a2e2_2 --> 8.1-h46c0cb4_0\n",
            "  sqlite                                  3.34.0-h74cdb3f_0 --> 3.36.0-h9cd32fc_0\n",
            "\n",
            "\n",
            "\n",
            "Downloading and Extracting Packages\n",
            "pycollada-0.7.1+bdf4 | 80 KB     | : 100% 1.0/1 [00:00<00:00,  1.93it/s]\n",
            "libzip-1.8.0         | 127 KB    | : 100% 1.0/1 [00:00<00:00,  7.88it/s]\n",
            "nss-3.67             | 2.1 MB    | : 100% 1.0/1 [00:00<00:00,  1.71it/s]\n",
            "glew-2.1.0           | 647 KB    | : 100% 1.0/1 [00:00<00:00,  4.45it/s]\n",
            "curl-7.78.0          | 148 KB    | : 100% 1.0/1 [00:00<00:00, 10.46it/s]\n",
            "numpy-1.21.1         | 6.1 MB    | : 100% 1.0/1 [00:01<00:00,  1.84s/it]\n",
            "libopus-1.3.1        | 255 KB    | : 100% 1.0/1 [00:00<00:00, 11.35it/s]\n",
            "glib-tools-2.68.3    | 86 KB     | : 100% 1.0/1 [00:00<00:00, 15.44it/s]\n",
            "libgfortran-ng-7.5.0 | 22 KB     | : 100% 1.0/1 [00:00<00:00, 15.34it/s]\n",
            "xorg-libxext-1.3.4   | 54 KB     | : 100% 1.0/1 [00:00<00:00, 18.31it/s]\n",
            "openssl-1.1.1k       | 2.1 MB    | : 100% 1.0/1 [00:00<00:00,  1.83it/s]\n",
            "pyqtchart-5.12       | 256 KB    | : 100% 1.0/1 [00:00<00:00,  7.61it/s]\n",
            "krb5-1.19.2          | 1.4 MB    | : 100% 1.0/1 [00:00<00:00,  2.35it/s]\n",
            "gstreamer-1.18.4     | 2.0 MB    | : 100% 1.0/1 [00:00<00:00,  1.31it/s]\n",
            "nspr-4.30            | 233 KB    | : 100% 1.0/1 [00:00<00:00,  8.27it/s]\n",
            "pillow-6.2.1         | 637 KB    | : 100% 1.0/1 [00:00<00:00,  2.01it/s]\n",
            "hdf5-1.10.6          | 3.1 MB    | : 100% 1.0/1 [00:00<00:00,  1.24it/s]               \n",
            "pymol-bundle-2.5.1   | 17 KB     | : 100% 1.0/1 [00:00<00:00,  3.31it/s]\n",
            "vtk-m-1.5.1          | 4.8 MB    | : 100% 1.0/1 [00:02<00:00,  2.24s/it]\n",
            "jpeg-9d              | 264 KB    | : 100% 1.0/1 [00:00<00:00,  3.43it/s]                 \n",
            "mysql-common-8.0.25  | 1.5 MB    | : 100% 1.0/1 [00:00<00:00,  1.44it/s]\n",
            "xorg-xproto-7.0.31   | 73 KB     | : 100% 1.0/1 [00:00<00:00,  8.45it/s]\n",
            "pykerberos-1.2.1     | 27 KB     | : 100% 1.0/1 [00:00<00:00,  4.59it/s]               \n",
            "freetype-2.10.4      | 890 KB    | : 100% 1.0/1 [00:00<00:00,  3.87it/s]\n",
            "python_abi-3.7       | 4 KB      | : 100% 1.0/1 [00:00<00:00, 21.83it/s]\n",
            "pymol-2.5.1          | 9.2 MB    | : 100% 1.0/1 [00:02<00:00,  2.60s/it]\n",
            "cached_property-1.5. | 11 KB     | : 100% 1.0/1 [00:00<00:00, 20.05it/s]\n",
            "libllvm11-11.1.0     | 29.1 MB   | : 100% 1.0/1 [00:07<00:00,  7.12s/it]\n",
            "libtiff-4.0.10       | 602 KB    | : 100% 1.0/1 [00:00<00:00,  5.11it/s]\n",
            "pyqtwebengine-5.12.1 | 175 KB    | : 100% 1.0/1 [00:00<00:00, 10.35it/s]\n",
            "mysql-libs-8.0.25    | 1.8 MB    | : 100% 1.0/1 [00:00<00:00,  2.55it/s]\n",
            "ca-certificates-2021 | 136 KB    | : 100% 1.0/1 [00:00<00:00, 16.32it/s]\n",
            "libogg-1.3.4         | 206 KB    | : 100% 1.0/1 [00:00<00:00, 12.54it/s]\n",
            "xorg-libxdmcp-1.1.3  | 19 KB     | : 100% 1.0/1 [00:00<00:00, 18.78it/s]\n",
            "libgfortran4-7.5.0   | 1.3 MB    | : 100% 1.0/1 [00:00<00:00,  2.73it/s]\n",
            "mtz2ccp4_px-1.0      | 547 KB    | : 100% 1.0/1 [00:00<00:00,  2.11it/s]\n",
            "libcurl-7.78.0       | 335 KB    | : 100% 1.0/1 [00:00<00:00,  8.38it/s]\n",
            "alsa-lib-1.2.3       | 560 KB    | : 100% 1.0/1 [00:00<00:00,  5.55it/s]\n",
            "mengine-1            | 676 KB    | : 100% 1.0/1 [00:00<00:00,  2.05it/s]\n",
            "pyqt-5.12.3          | 21 KB     | : 100% 1.0/1 [00:00<00:00, 22.57it/s]\n",
            "libglu-9.0.0         | 413 KB    | : 100% 1.0/1 [00:00<00:00,  7.57it/s]\n",
            "libholoplaycore-0.1. | 325 KB    | : 100% 1.0/1 [00:00<00:00,  2.64it/s]\n",
            "libvorbis-1.3.7      | 280 KB    | : 100% 1.0/1 [00:00<00:00, 10.00it/s]\n",
            "fontconfig-2.13.1    | 357 KB    | : 100% 1.0/1 [00:00<00:00,  7.59it/s]\n",
            "conda-4.10.3         | 3.1 MB    | : 100% 1.0/1 [00:01<00:00,  1.05s/it]\n",
            "libnetcdf-4.8.0      | 1.5 MB    | : 100% 1.0/1 [00:00<00:00,  2.95it/s]\n",
            "python-dateutil-2.8. | 240 KB    | : 100% 1.0/1 [00:00<00:00, 12.53it/s]\n",
            "libuuid-2.32.1       | 28 KB     | : 100% 1.0/1 [00:00<00:00, 24.27it/s]\n",
            "libpq-13.3           | 2.7 MB    | : 100% 1.0/1 [00:00<00:00,  1.21it/s]\n",
            "gst-plugins-base-1.1 | 2.6 MB    | : 100% 1.0/1 [00:00<00:00,  1.24it/s]\n",
            "biopython-1.79       | 2.6 MB    | : 100% 1.0/1 [00:01<00:00,  1.03s/it]\n",
            "readline-8.1         | 295 KB    | : 100% 1.0/1 [00:00<00:00,  8.56it/s]\n",
            "sqlite-3.36.0        | 1.4 MB    | : 100% 1.0/1 [00:00<00:00,  2.72it/s]\n",
            "qt-5.12.9            | 99.5 MB   | : 100% 1.0/1 [00:22<00:00, 22.79s/it]               \n",
            "pymol-web-examples-2 | 1.9 MB    | : 100% 1.0/1 [00:00<00:00,  1.07it/s]\n",
            "libevent-2.1.10      | 1.1 MB    | : 100% 1.0/1 [00:00<00:00,  2.59it/s]\n",
            "xorg-libxau-1.0.9    | 13 KB     | : 100% 1.0/1 [00:00<00:00, 23.87it/s]\n",
            "expat-2.4.1          | 182 KB    | : 100% 1.0/1 [00:00<00:00, 10.80it/s]\n",
            "libopenblas-0.3.12   | 8.2 MB    | : 100% 1.0/1 [00:01<00:00,  1.90s/it]\n",
            "apbs-1.5             | 277 KB    | : 100% 1.0/1 [00:00<00:00,  2.55it/s]\n",
            "h5py-3.3.0           | 1.3 MB    | : 100% 1.0/1 [00:00<00:00,  2.69it/s]\n",
            "certifi-2021.5.30    | 141 KB    | : 100% 1.0/1 [00:00<00:00, 17.61it/s]\n",
            "libcblas-3.9.0       | 11 KB     | : 100% 1.0/1 [00:00<00:00, 21.95it/s]\n",
            "dbus-1.13.6          | 572 KB    | : 100% 1.0/1 [00:00<00:00,  5.76it/s]\n",
            "pthread-stubs-0.4    | 5 KB      | : 100% 1.0/1 [00:00<00:00, 16.08it/s]\n",
            "mpeg_encode-1        | 106 KB    | : 100% 1.0/1 [00:00<00:00,  2.84it/s]\n",
            "libpng-1.6.37        | 306 KB    | : 100% 1.0/1 [00:00<00:00,  8.16it/s]\n",
            "pdb2pqr-2.1.2+pymol  | 236 KB    | : 100% 1.0/1 [00:00<00:00,  2.52it/s]\n",
            "libglib-2.68.3       | 3.1 MB    | : 100% 1.0/1 [00:00<00:00,  1.22it/s]\n",
            "pyqt-impl-5.12.3     | 5.9 MB    | : 100% 1.0/1 [00:01<00:00,  1.64s/it]\n",
            "pmw-2.0.1+3          | 60 KB     | : 100% 1.0/1 [00:00<00:00,  3.21it/s]\n",
            "libblas-3.9.0        | 11 KB     | : 100% 1.0/1 [00:00<00:00, 23.17it/s]\n",
            "xorg-xextproto-7.3.0 | 28 KB     | : 100% 1.0/1 [00:00<00:00, 19.88it/s]\n",
            "xorg-libx11-1.7.2    | 941 KB    | : 100% 1.0/1 [00:00<00:00,  4.11it/s]\n",
            "liblapack-3.9.0      | 11 KB     | : 100% 1.0/1 [00:00<00:00, 21.09it/s]\n",
            "gettext-0.19.8.1     | 3.6 MB    | : 100% 1.0/1 [00:01<00:00,  1.13s/it]\n",
            "pyqt5-sip-4.19.18    | 310 KB    | : 100% 1.0/1 [00:00<00:00,  9.77it/s]\n",
            "hdf4-4.2.15          | 950 KB    | : 100% 1.0/1 [00:00<00:00,  3.55it/s]\n",
            "pcre-8.45            | 253 KB    | : 100% 1.0/1 [00:00<00:00,  9.93it/s]\n",
            "libclang-11.1.0      | 19.2 MB   | : 100% 1.0/1 [00:04<00:00,  4.41s/it]\n",
            "libxkbcommon-1.0.3   | 581 KB    | : 100% 1.0/1 [00:00<00:00,  6.26it/s]\n",
            "cached-property-1.5. | 4 KB      | : 100% 1.0/1 [00:00<00:00, 26.17it/s]\n",
            "rigimol-1.3          | 489 KB    | : 100% 1.0/1 [00:00<00:00,  2.33it/s]\n",
            "cudatoolkit-11.0.3   | 951.9 MB  | : 100% 1.0/1 [02:45<00:00, 165.13s/it]              \n",
            "glib-2.68.3          | 449 KB    | : 100% 1.0/1 [00:00<00:00,  3.73it/s]\n",
            "xorg-kbproto-1.0.7   | 27 KB     | : 100% 1.0/1 [00:00<00:00, 19.34it/s]\n",
            "libxcb-1.13          | 395 KB    | : 100% 1.0/1 [00:00<00:00,  4.96it/s]\n",
            "olefile-0.46         | 32 KB     | : 100% 1.0/1 [00:00<00:00, 11.20it/s]\n",
            "collada2gltf-2.1.4   | 3.2 MB    | : 100% 1.0/1 [00:01<00:00,  1.31s/it]\n",
            "Preparing transaction: / \b\b- \b\b\\ \b\b| \b\b/ \b\b- \b\b\\ \b\b| \b\b/ \b\bdone\n",
            "Verifying transaction: \\ \b\b| \b\b/ \b\b- \b\b\\ \b\b| \b\b/ \b\b- \b\b\\ \b\b| \b\b/ \b\b- \b\b\\ \b\b| \b\b/ \b\b- \b\b\\ \b\b| \b\b/ \b\b- \b\b\\ \b\b| \b\b/ \b\b- \b\b\\ \b\b| \b\b/ \b\b- \b\b\\ \b\b| \b\b/ \b\b- \b\b\\ \b\b| \b\b/ \b\b- \b\bdone\n",
            "Executing transaction: | \b\b/ \b\b- \b\b\\ \b\b| \b\b/ \b\b- \b\b\\ \b\b| \b\b/ \b\b- \b\b\\ \b\b| \b\b/ \b\b- By downloading and using the CUDA Toolkit conda packages, you accept the terms and conditions of the CUDA End User License Agreement (EULA): https://docs.nvidia.com/cuda/eula/index.html\n",
            "\n",
            "\b\b\\ \b\b| \b\b/ \b\b- \b\b\\ \b\b| \b\b/ \b\b- \b\b\\ \b\b| \b\b/ \b\b- \b\b\\ \b\b| \b\b/ \b\b- \b\b\\ \b\b| \b\b/ \b\b- \b\b\\ \b\bdone\n"
          ],
          "name": "stdout"
        }
      ]
    },
    {
      "cell_type": "code",
      "metadata": {
        "id": "Qi_RWPGcHn5E"
      },
      "source": [
        "import subprocess\n",
        "cmd = subprocess.Popen(['pymol', '-cKRQ'])"
      ],
      "execution_count": null,
      "outputs": []
    },
    {
      "cell_type": "code",
      "metadata": {
        "id": "ZGYhNffHIfFI"
      },
      "source": [
        "import pymol"
      ],
      "execution_count": null,
      "outputs": []
    },
    {
      "cell_type": "code",
      "metadata": {
        "colab": {
          "base_uri": "https://localhost:8080/"
        },
        "id": "XbcV_QFZJpx4",
        "outputId": "6c707619-23bf-4c8d-bdbd-ff046bc1f5f1"
      },
      "source": [
        "!wget -O aaindex.py https://raw.githubusercontent.com/Pymol-Scripts/Pymol-script-repo/master/aaindex.py"
      ],
      "execution_count": null,
      "outputs": [
        {
          "output_type": "stream",
          "text": [
            "--2021-08-08 19:05:06--  https://raw.githubusercontent.com/Pymol-Scripts/Pymol-script-repo/master/aaindex.py\n",
            "Resolving raw.githubusercontent.com (raw.githubusercontent.com)... 185.199.108.133, 185.199.109.133, 185.199.110.133, ...\n",
            "Connecting to raw.githubusercontent.com (raw.githubusercontent.com)|185.199.108.133|:443... connected.\n",
            "HTTP request sent, awaiting response... 200 OK\n",
            "Length: 14318 (14K) [text/plain]\n",
            "Saving to: ‘aaindex.py’\n",
            "\n",
            "\raaindex.py            0%[                    ]       0  --.-KB/s               \raaindex.py          100%[===================>]  13.98K  --.-KB/s    in 0s      \n",
            "\n",
            "2021-08-08 19:05:06 (38.4 MB/s) - ‘aaindex.py’ saved [14318/14318]\n",
            "\n"
          ],
          "name": "stdout"
        }
      ]
    },
    {
      "cell_type": "code",
      "metadata": {
        "id": "npOj1PR3J4Ng"
      },
      "source": [
        "%load aaindex.py\n",
        "import aaindex"
      ],
      "execution_count": null,
      "outputs": []
    },
    {
      "cell_type": "code",
      "metadata": {
        "colab": {
          "base_uri": "https://localhost:8080/"
        },
        "id": "vT0W7W5zJ8wg",
        "outputId": "4aae8cf6-9627-4518-eeea-626d73a7a4c2"
      },
      "source": [
        "aaindex.init(index='1')"
      ],
      "execution_count": null,
      "outputs": [
        {
          "output_type": "stream",
          "text": [
            "path = /content\n"
          ],
          "name": "stderr"
        }
      ]
    },
    {
      "cell_type": "code",
      "metadata": {
        "colab": {
          "base_uri": "https://localhost:8080/"
        },
        "id": "NZP6GJEfKAkK",
        "outputId": "7807a0f3-ff8c-4986-e952-1ac34d4d146c"
      },
      "source": [
        "x = aaindex.get('BIGC670101')\n",
        "print(x)\n",
        "print(x.get('A'))"
      ],
      "execution_count": null,
      "outputs": [
        {
          "output_type": "stream",
          "text": [
            "Record(BIGC670101: Residue volume (Bigelow, 1967))\n",
            "52.6\n"
          ],
          "name": "stdout"
        }
      ]
    },
    {
      "cell_type": "code",
      "metadata": {
        "colab": {
          "base_uri": "https://localhost:8080/"
        },
        "id": "_tc_aGQmOY8s",
        "outputId": "9a9eaaf8-98eb-4dbc-8294-915653071314"
      },
      "source": [
        "x = aaindex.get('PONJ960101')\n",
        "print(x)\n",
        "print(x.get('A'))"
      ],
      "execution_count": null,
      "outputs": [
        {
          "output_type": "stream",
          "text": [
            "Record(PONJ960101: Average volumes of residues (Pontius et al., 1996))\n",
            "91.5\n"
          ],
          "name": "stdout"
        }
      ]
    },
    {
      "cell_type": "code",
      "metadata": {
        "colab": {
          "base_uri": "https://localhost:8080/"
        },
        "id": "fDaBUPb2UOc3",
        "outputId": "102307db-caa6-4a57-d07a-0c70854e4c3b"
      },
      "source": [
        "!wget -O AAdata.RData https://github.com/dosorio/Peptides/blob/master/data/AAdata.RData?raw=true"
      ],
      "execution_count": null,
      "outputs": [
        {
          "output_type": "stream",
          "text": [
            "--2021-08-08 19:52:26--  https://github.com/dosorio/Peptides/blob/master/data/AAdata.RData?raw=true\n",
            "Resolving github.com (github.com)... 140.82.113.4\n",
            "Connecting to github.com (github.com)|140.82.113.4|:443... connected.\n",
            "HTTP request sent, awaiting response... 302 Found\n",
            "Location: https://github.com/dosorio/Peptides/raw/master/data/AAdata.RData [following]\n",
            "--2021-08-08 19:52:26--  https://github.com/dosorio/Peptides/raw/master/data/AAdata.RData\n",
            "Reusing existing connection to github.com:443.\n",
            "HTTP request sent, awaiting response... 302 Found\n",
            "Location: https://raw.githubusercontent.com/dosorio/Peptides/master/data/AAdata.RData [following]\n",
            "--2021-08-08 19:52:26--  https://raw.githubusercontent.com/dosorio/Peptides/master/data/AAdata.RData\n",
            "Resolving raw.githubusercontent.com (raw.githubusercontent.com)... 185.199.108.133, 185.199.109.133, 185.199.110.133, ...\n",
            "Connecting to raw.githubusercontent.com (raw.githubusercontent.com)|185.199.108.133|:443... connected.\n",
            "HTTP request sent, awaiting response... 200 OK\n",
            "Length: 7450 (7.3K) [application/octet-stream]\n",
            "Saving to: ‘AAdata.RData’\n",
            "\n",
            "AAdata.RData        100%[===================>]   7.28K  --.-KB/s    in 0s      \n",
            "\n",
            "2021-08-08 19:52:26 (62.1 MB/s) - ‘AAdata.RData’ saved [7450/7450]\n",
            "\n"
          ],
          "name": "stdout"
        }
      ]
    },
    {
      "cell_type": "markdown",
      "metadata": {
        "id": "u1s-U5p9Gpq8"
      },
      "source": [
        "## Neural Network"
      ]
    },
    {
      "cell_type": "code",
      "metadata": {
        "id": "b_IZvtTeaZTm"
      },
      "source": [
        "import os"
      ],
      "execution_count": 176,
      "outputs": []
    },
    {
      "cell_type": "code",
      "metadata": {
        "id": "z9rObw2jEeiA"
      },
      "source": [
        "os.environ['WANDB_LOG_MODEL'] = 'true'"
      ],
      "execution_count": 177,
      "outputs": []
    },
    {
      "cell_type": "code",
      "metadata": {
        "id": "BqZ46O52y28B"
      },
      "source": [
        "!pip install wandb -qqq\n",
        "import wandb\n",
        "import pandas as pd\n",
        "from tqdm import tqdm\n",
        "import matplotlib.pyplot as plt\n",
        "\n",
        "import torch\n",
        "import torch.nn as nn\n",
        "import torch.optim as optim\n",
        "import torch.nn.functional as F\n",
        "from torch.utils.data import Dataset, DataLoader"
      ],
      "execution_count": 178,
      "outputs": []
    },
    {
      "cell_type": "markdown",
      "metadata": {
        "id": "TlvPAM2t3EAY"
      },
      "source": [
        "### zScales\n",
        "\n",
        "The five Sandberg et al. (1998) Z-scales describe each amino acid with numerical values, descriptors, which represent the physicochemical properties of the amino acids including NMR data and thin-layer chromatography (TLC) data.\n",
        "\n",
        "\n",
        "* Z1: Lipophilicity\n",
        "* Z2: Steric properties (Steric bulk/Polarizability)\n",
        "* Z3: Electronic properties (Polarity / Charge)\n",
        "* Z4: Related to electronegativity, heat of formation, electrophilicity and hardness.\n",
        "* Z5: Related to electronegativity, heat of formation, electrophilicity and hardness.\n",
        "\n",
        "[Source](https://rdrr.io/cran/Peptides/man/AAdata.html)"
      ]
    },
    {
      "cell_type": "code",
      "metadata": {
        "id": "-wJzpEjqUPkO"
      },
      "source": [
        "features = {}\n",
        "features['zScales'] = [\n",
        "    { # Z1\n",
        "      'A': 0.24,\n",
        "      'R': 3.52,\n",
        "      'N': 3.05,\n",
        "      'D': 3.98,\n",
        "      'C': 0.84,\n",
        "      'Q': 1.75,\n",
        "      'E': 3.11,\n",
        "      'G': 2.05,\n",
        "      'H': 2.47,\n",
        "      'I': -3.89,\n",
        "      'L': -4.28,\n",
        "      'K': 2.29,\n",
        "      'M': -2.85,\n",
        "      'F': -4.22,\n",
        "      'P': -1.66,\n",
        "      'S': 2.39,\n",
        "      'T': 0.75,\n",
        "      'W': -4.36,\n",
        "      'Y': -2.54,\n",
        "      'V': -2.59\n",
        "    },\n",
        "    { # Z2\n",
        "      'A': -2.32,\n",
        "      'R': 2.50,\n",
        "      'N': 1.62,\n",
        "      'D': 0.93,\n",
        "      'C': -1.67,\n",
        "      'Q': 0.50,\n",
        "      'E': 0.26,\n",
        "      'G': -4.06,\n",
        "      'H': 1.95,\n",
        "      'I': -1.73,\n",
        "      'L': -1.30,\n",
        "      'K': 0.89,\n",
        "      'M': -0.22,\n",
        "      'F': 1.94,\n",
        "      'P': 0.27,\n",
        "      'S': -1.07,\n",
        "      'T': -2.18,\n",
        "      'W': 3.94,\n",
        "      'Y': 2.44,\n",
        "      'V': -2.64  \n",
        "    },\n",
        "    { # Z3\n",
        "      'A':  0.60,\n",
        "      'R':  -3.50,\n",
        "      'N':  1.04,\n",
        "      'D':  1.93,\n",
        "      'C':  3.75,\n",
        "      'Q':  -1.44,\n",
        "      'E':  -0.11,\n",
        "      'G':  0.36,\n",
        "      'H':  0.26,\n",
        "      'I':  -1.71,\n",
        "      'L':  -1.49,\n",
        "      'K':  -2.49,\n",
        "      'M':  0.47,\n",
        "      'F':  1.06,\n",
        "      'P':  1.84,\n",
        "      'S':  1.15,\n",
        "      'T':  -1.12,\n",
        "      'W':  0.59,\n",
        "      'Y':  0.43,\n",
        "      'V':  -1.54\n",
        "    },\n",
        "    { # Z4\n",
        "      'A': -0.14,\n",
        "      'R': 1.99,\n",
        "      'N': -1.15,\n",
        "      'D': -2.46,\n",
        "      'C': 0.18,\n",
        "      'Q': -1.34,\n",
        "      'E': -3.04,\n",
        "      'G': -0.82,\n",
        "      'H': 3.90,\n",
        "      'I': -0.84,\n",
        "      'L': -0.72,\n",
        "      'K': 1.49,\n",
        "      'M': 1.94,\n",
        "      'F': 0.54,\n",
        "      'P': 0.70,\n",
        "      'S': -1.39,\n",
        "      'T': -1.46,\n",
        "      'W': 3.44,\n",
        "      'Y': 0.04,\n",
        "      'V': -0.85\n",
        "    },\n",
        "    { # Z5\n",
        "      'A': 1.30,\n",
        "      'R': -0.17,\n",
        "      'N': 1.61,\n",
        "      'D': 0.75,\n",
        "      'C': -2.65,\n",
        "      'Q': 0.66,\n",
        "      'E': -0.25,\n",
        "      'G': -0.38,\n",
        "      'H': 0.09,\n",
        "      'I': 0.26,\n",
        "      'L': 0.84,\n",
        "      'K': 0.31,\n",
        "      'M': -0.98,\n",
        "      'F': -0.62,\n",
        "      'P': 2.00,\n",
        "      'S': 0.67,\n",
        "      'T': -0.40,\n",
        "      'W': -1.59,\n",
        "      'Y': -1.47,\n",
        "      'V': -0.0\n",
        "    }\n",
        "]"
      ],
      "execution_count": 12,
      "outputs": []
    },
    {
      "cell_type": "markdown",
      "metadata": {
        "id": "aq_rSRemApCu"
      },
      "source": [
        "### VHSE\n",
        "\n",
        "The principal components score Vectors of Hydrophobic, Steric, and Electronic properties, is derived from principal components analysis (PCA) on independent families of 18 hydrophobic properties, 17 steric properties, and 15 electronic properties, respectively, which are included in total 50 physicochemical variables of 20 coded amino acids.\n",
        "\n",
        "* VHSE1 and VHSE2: Hydrophobic properties\n",
        "* VHSE3 and VHSE4: Steric properties\n",
        "* VHSE5 to VHSE8: Electronic \n",
        "\n",
        "[Source](https://rdrr.io/cran/Peptides/man/AAdata.html)"
      ]
    },
    {
      "cell_type": "code",
      "metadata": {
        "id": "Myrx702uA23U"
      },
      "source": [
        "features['VHSE'] = [\n",
        "  { # VHSE1\n",
        "    'A':  0.15,\n",
        "    'R':  -1.47,\n",
        "    'N':  -0.99,\n",
        "    'D':  -1.15,\n",
        "    'C':  0.18,\n",
        "    'Q':  -0.96,\n",
        "    'E':  -1.18,\n",
        "    'G':  -0.20,\n",
        "    'H':  -0.43,\n",
        "    'I':  1.27,\n",
        "    'L':  1.36,\n",
        "    'K':  -1.17,\n",
        "    'M':  1.01,\n",
        "    'F':  1.52,\n",
        "    'P':  0.22,\n",
        "    'S':  -0.67,\n",
        "    'T':  -0.34,\n",
        "    'W':  1.50,\n",
        "    'Y':  0.61,\n",
        "    'V':  0.76\n",
        "  },\n",
        "  { # VHSE2\n",
        "    'A': -1.11,\n",
        "    'R': 1.45,\n",
        "    'N': 0.00,\n",
        "    'D': 0.67,\n",
        "    'C': -1.67,\n",
        "    'Q': 0.12,\n",
        "    'E': 0.40,\n",
        "    'G': -1.53,\n",
        "    'H': -0.25,\n",
        "    'I': -0.14,\n",
        "    'L': 0.07,\n",
        "    'K': 0.70,\n",
        "    'M': -0.53,\n",
        "    'F': 0.61,\n",
        "    'P': -0.17,\n",
        "    'S': -0.86,\n",
        "    'T': -0.51,\n",
        "    'W': 2.06,\n",
        "    'Y': 1.60,\n",
        "    'V': -0.92\n",
        "  },\n",
        "  { # VHSE3\n",
        "    'A': -1.35,\n",
        "    'R': 1.24,\n",
        "    'N': -0.37,\n",
        "    'D': -0.41,\n",
        "    'C': -0.46,\n",
        "    'Q': 0.18,\n",
        "    'E': 0.10,\n",
        "    'G': -2.63,\n",
        "    'H': 0.37,\n",
        "    'I': 0.30,\n",
        "    'L': 0.36,\n",
        "    'K': 0.70,\n",
        "    'M': 0.43,\n",
        "    'F': 0.96,\n",
        "    'P': -0.50,\n",
        "    'S': -1.07,\n",
        "    'T': -0.55,\n",
        "    'W': 1.79,\n",
        "    'Y': 1.17,\n",
        "    'V': -0.17\n",
        "  },\n",
        "  { # VHSE4\n",
        "    'A': -0.92,\n",
        "    'R': 1.27,\n",
        "    'N': 0.69,\n",
        "    'D': -0.01,\n",
        "    'C': -0.21,\n",
        "    'Q': 0.16,\n",
        "    'E': 0.36,\n",
        "    'G': 2.28,\n",
        "    'H': 0.19,\n",
        "    'I': -1.80,\n",
        "    'L': -0.80,\n",
        "    'K': 0.80,\n",
        "    'M': 0.00,\n",
        "    'F': -0.16,\n",
        "    'P': 0.05,\n",
        "    'S': -0.41,\n",
        "    'T': -1.06,\n",
        "    'W': 0.75,\n",
        "    'Y': 0.73,\n",
        "    'V': -1.91\n",
        "  },\n",
        "  { # VHSE5\n",
        "    'A': 0.02,\n",
        "    'R': 1.55,\n",
        "    'N': -0.55,\n",
        "    'D': -2.68,\n",
        "    'C': 0.00,\n",
        "    'Q': 0.09,\n",
        "    'E': -2.16,\n",
        "    'G': -0.53,\n",
        "    'H': 0.51,\n",
        "    'I': 0.30,\n",
        "    'L': 0.22,\n",
        "    'K': 1.64,\n",
        "    'M': 0.23,\n",
        "    'F': 0.25,\n",
        "    'P': -0.01,\n",
        "    'S': -0.32,\n",
        "    'T': -0.06,\n",
        "    'W': 0.75,\n",
        "    'Y': 0.53,\n",
        "    'V': 0.22\n",
        "  },\n",
        "  { # VHSE6\n",
        "    'A':  -0.91,\n",
        "    'R':  1.47,\n",
        "    'N':  0.85,\n",
        "    'D':  1.31,\n",
        "    'C':  1.20,\n",
        "    'Q':  0.42,\n",
        "    'E':  -0.17,\n",
        "    'G':  -1.18,\n",
        "    'H':  1.28,\n",
        "    'I':  -1.61,\n",
        "    'L':  -1.37,\n",
        "    'K':  0.67,\n",
        "    'M':  0.10,\n",
        "    'F':  0.28,\n",
        "    'P':  -1.34,\n",
        "    'S':  0.27,\n",
        "    'T':  -0.01,\n",
        "    'W':  -0.13,\n",
        "    'Y':  0.25,\n",
        "    'V':  -1.40\n",
        "  },\n",
        "  { # VHSE7\n",
        "    'A': 0.36,\n",
        "    'R': 1.30,\n",
        "    'N': 0.73,\n",
        "    'D': 0.03,\n",
        "    'C': -1.61,\n",
        "    'Q': -0.20,\n",
        "    'E': 0.91,\n",
        "    'G': 2.01,\n",
        "    'H': 0.93,\n",
        "    'I': -0.16,\n",
        "    'L': 0.08,\n",
        "    'K': 1.63,\n",
        "    'M': -0.86,\n",
        "    'F': -1.33,\n",
        "    'P': -0.19,\n",
        "    'S': -0.64,\n",
        "    'T': -0.79,\n",
        "    'W': -1.01,\n",
        "    'Y': -0.96,\n",
        "    'V': -0.24\n",
        "  },\n",
        "  { # VHSE8\n",
        "    'A': -0.48,\n",
        "    'R': 0.83,\n",
        "    'N': -0.80,\n",
        "    'D': 0.56,\n",
        "    'C': -0.19,\n",
        "    'Q': -0.41,\n",
        "    'E': 0.02,\n",
        "    'G': -1.34,\n",
        "    'H': 0.65,\n",
        "    'I': -0.13,\n",
        "    'L': -0.62,\n",
        "    'K': 0.13,\n",
        "    'M': -0.68,\n",
        "    'F': -0.20,\n",
        "    'P': 3.56,\n",
        "    'S': 0.11,\n",
        "    'T': 0.39,\n",
        "    'W': -0.85,\n",
        "    'Y': -0.52,\n",
        "    'V': -0.03\n",
        "  }   \n",
        "]"
      ],
      "execution_count": 13,
      "outputs": []
    },
    {
      "cell_type": "code",
      "metadata": {
        "colab": {
          "base_uri": "https://localhost:8080/"
        },
        "id": "Q48K9G1sFLBg",
        "outputId": "475b12d7-a995-43af-ca77-eae344fb4089"
      },
      "source": [
        "!wget -O pepdata.csv https://raw.githubusercontent.com/aminoscape/pepdata/main/pepdata.csv"
      ],
      "execution_count": 14,
      "outputs": [
        {
          "output_type": "stream",
          "text": [
            "--2021-08-12 06:49:49--  https://raw.githubusercontent.com/aminoscape/pepdata/main/pepdata.csv\n",
            "Resolving raw.githubusercontent.com (raw.githubusercontent.com)... 185.199.108.133, 185.199.109.133, 185.199.110.133, ...\n",
            "Connecting to raw.githubusercontent.com (raw.githubusercontent.com)|185.199.108.133|:443... connected.\n",
            "HTTP request sent, awaiting response... 200 OK\n",
            "Length: 15778 (15K) [text/plain]\n",
            "Saving to: ‘pepdata.csv’\n",
            "\n",
            "\rpepdata.csv           0%[                    ]       0  --.-KB/s               \rpepdata.csv         100%[===================>]  15.41K  --.-KB/s    in 0s      \n",
            "\n",
            "2021-08-12 06:49:49 (33.2 MB/s) - ‘pepdata.csv’ saved [15778/15778]\n",
            "\n"
          ],
          "name": "stdout"
        }
      ]
    },
    {
      "cell_type": "code",
      "metadata": {
        "colab": {
          "base_uri": "https://localhost:8080/",
          "height": 241
        },
        "id": "2RVBDqigPPXc",
        "outputId": "3ff2edc1-1376-4ad2-dc9a-e1c4a84fa3b2"
      },
      "source": [
        "pepdata = pd.read_csv('https://raw.githubusercontent.com/aminoscape/pepdata/main/pepdata.csv')\n",
        "pepdata.head()"
      ],
      "execution_count": 15,
      "outputs": [
        {
          "output_type": "execute_result",
          "data": {
            "text/html": [
              "<div>\n",
              "<style scoped>\n",
              "    .dataframe tbody tr th:only-of-type {\n",
              "        vertical-align: middle;\n",
              "    }\n",
              "\n",
              "    .dataframe tbody tr th {\n",
              "        vertical-align: top;\n",
              "    }\n",
              "\n",
              "    .dataframe thead th {\n",
              "        text-align: right;\n",
              "    }\n",
              "</style>\n",
              "<table border=\"1\" class=\"dataframe\">\n",
              "  <thead>\n",
              "    <tr style=\"text-align: right;\">\n",
              "      <th></th>\n",
              "      <th>Unnamed: 0</th>\n",
              "      <th>sequence</th>\n",
              "      <th>group</th>\n",
              "      <th>length</th>\n",
              "      <th>mw</th>\n",
              "      <th>tinyAA</th>\n",
              "      <th>smallAA</th>\n",
              "      <th>aliphaticAA</th>\n",
              "      <th>aromaticAA</th>\n",
              "      <th>nonpolarAA</th>\n",
              "      <th>polarAA</th>\n",
              "      <th>chargedAA</th>\n",
              "      <th>basicAA</th>\n",
              "      <th>acidicAA</th>\n",
              "      <th>charge</th>\n",
              "      <th>pI</th>\n",
              "      <th>aindex</th>\n",
              "      <th>instaindex</th>\n",
              "      <th>boman</th>\n",
              "      <th>hydrophobicity</th>\n",
              "      <th>hmoment</th>\n",
              "      <th>transmembrane</th>\n",
              "      <th>globular</th>\n",
              "      <th>surface</th>\n",
              "    </tr>\n",
              "  </thead>\n",
              "  <tbody>\n",
              "    <tr>\n",
              "      <th>0</th>\n",
              "      <td>1</td>\n",
              "      <td>DAEFRHDSGYEVHHQKLVFFAEDVGSNK</td>\n",
              "      <td>0</td>\n",
              "      <td>28</td>\n",
              "      <td>3262.502</td>\n",
              "      <td>21.429</td>\n",
              "      <td>46.429</td>\n",
              "      <td>21.429</td>\n",
              "      <td>25.000</td>\n",
              "      <td>42.857</td>\n",
              "      <td>57.143</td>\n",
              "      <td>42.857</td>\n",
              "      <td>21.429</td>\n",
              "      <td>21.429</td>\n",
              "      <td>-2.970</td>\n",
              "      <td>5.429</td>\n",
              "      <td>52.143</td>\n",
              "      <td>26.946</td>\n",
              "      <td>2.651</td>\n",
              "      <td>-0.900</td>\n",
              "      <td>0.392</td>\n",
              "      <td>0.0</td>\n",
              "      <td>1.0</td>\n",
              "      <td>0.0</td>\n",
              "    </tr>\n",
              "    <tr>\n",
              "      <th>1</th>\n",
              "      <td>2</td>\n",
              "      <td>SLDRSSCFTGSLDSIRAQSGLGCNSFRY</td>\n",
              "      <td>0</td>\n",
              "      <td>28</td>\n",
              "      <td>3028.321</td>\n",
              "      <td>50.000</td>\n",
              "      <td>60.714</td>\n",
              "      <td>17.857</td>\n",
              "      <td>10.714</td>\n",
              "      <td>46.429</td>\n",
              "      <td>53.571</td>\n",
              "      <td>17.857</td>\n",
              "      <td>10.714</td>\n",
              "      <td>7.143</td>\n",
              "      <td>0.742</td>\n",
              "      <td>8.223</td>\n",
              "      <td>59.286</td>\n",
              "      <td>58.011</td>\n",
              "      <td>2.431</td>\n",
              "      <td>-0.286</td>\n",
              "      <td>0.407</td>\n",
              "      <td>0.0</td>\n",
              "      <td>1.0</td>\n",
              "      <td>0.0</td>\n",
              "    </tr>\n",
              "    <tr>\n",
              "      <th>2</th>\n",
              "      <td>3</td>\n",
              "      <td>MISSVCVSSYRGRKSGNKPPSKTCLKEEMA</td>\n",
              "      <td>0</td>\n",
              "      <td>30</td>\n",
              "      <td>3274.835</td>\n",
              "      <td>40.000</td>\n",
              "      <td>56.667</td>\n",
              "      <td>16.667</td>\n",
              "      <td>3.333</td>\n",
              "      <td>46.667</td>\n",
              "      <td>53.333</td>\n",
              "      <td>26.667</td>\n",
              "      <td>20.000</td>\n",
              "      <td>6.667</td>\n",
              "      <td>3.741</td>\n",
              "      <td>10.053</td>\n",
              "      <td>48.667</td>\n",
              "      <td>45.487</td>\n",
              "      <td>2.218</td>\n",
              "      <td>-0.620</td>\n",
              "      <td>0.460</td>\n",
              "      <td>0.0</td>\n",
              "      <td>1.0</td>\n",
              "      <td>0.0</td>\n",
              "    </tr>\n",
              "    <tr>\n",
              "      <th>3</th>\n",
              "      <td>4</td>\n",
              "      <td>TRYLRIHPQSWVHQIALRMEVL</td>\n",
              "      <td>0</td>\n",
              "      <td>22</td>\n",
              "      <td>2747.260</td>\n",
              "      <td>13.636</td>\n",
              "      <td>27.273</td>\n",
              "      <td>36.364</td>\n",
              "      <td>18.182</td>\n",
              "      <td>54.545</td>\n",
              "      <td>45.455</td>\n",
              "      <td>27.273</td>\n",
              "      <td>22.727</td>\n",
              "      <td>4.545</td>\n",
              "      <td>1.936</td>\n",
              "      <td>11.054</td>\n",
              "      <td>119.545</td>\n",
              "      <td>52.795</td>\n",
              "      <td>1.769</td>\n",
              "      <td>-0.145</td>\n",
              "      <td>0.533</td>\n",
              "      <td>0.0</td>\n",
              "      <td>1.0</td>\n",
              "      <td>0.0</td>\n",
              "    </tr>\n",
              "    <tr>\n",
              "      <th>4</th>\n",
              "      <td>5</td>\n",
              "      <td>MPGTIKENIIGVSYDEYRYRSVIKA</td>\n",
              "      <td>0</td>\n",
              "      <td>25</td>\n",
              "      <td>2903.346</td>\n",
              "      <td>24.000</td>\n",
              "      <td>44.000</td>\n",
              "      <td>28.000</td>\n",
              "      <td>12.000</td>\n",
              "      <td>56.000</td>\n",
              "      <td>44.000</td>\n",
              "      <td>28.000</td>\n",
              "      <td>16.000</td>\n",
              "      <td>12.000</td>\n",
              "      <td>0.762</td>\n",
              "      <td>9.031</td>\n",
              "      <td>89.600</td>\n",
              "      <td>45.068</td>\n",
              "      <td>1.836</td>\n",
              "      <td>-0.372</td>\n",
              "      <td>0.373</td>\n",
              "      <td>0.0</td>\n",
              "      <td>1.0</td>\n",
              "      <td>0.0</td>\n",
              "    </tr>\n",
              "  </tbody>\n",
              "</table>\n",
              "</div>"
            ],
            "text/plain": [
              "   Unnamed: 0                        sequence  ...  globular  surface\n",
              "0           1    DAEFRHDSGYEVHHQKLVFFAEDVGSNK  ...       1.0      0.0\n",
              "1           2    SLDRSSCFTGSLDSIRAQSGLGCNSFRY  ...       1.0      0.0\n",
              "2           3  MISSVCVSSYRGRKSGNKPPSKTCLKEEMA  ...       1.0      0.0\n",
              "3           4          TRYLRIHPQSWVHQIALRMEVL  ...       1.0      0.0\n",
              "4           5       MPGTIKENIIGVSYDEYRYRSVIKA  ...       1.0      0.0\n",
              "\n",
              "[5 rows x 24 columns]"
            ]
          },
          "metadata": {
            "tags": []
          },
          "execution_count": 15
        }
      ]
    },
    {
      "cell_type": "markdown",
      "metadata": {
        "id": "McYOscTRMEpZ"
      },
      "source": [
        "### Preprocess data"
      ]
    },
    {
      "cell_type": "code",
      "metadata": {
        "colab": {
          "base_uri": "https://localhost:8080/"
        },
        "id": "SB2UwfoTRWen",
        "outputId": "247efbb3-0193-4d00-8f86-92861e51354c"
      },
      "source": [
        "max_length = pepdata[['sequence']].astype(str).apply(lambda x:x.str.len()).max().item()\n",
        "mean_length = pepdata[['sequence']].astype(str).apply(lambda x:x.str.len()).mean().item()\n",
        "print(f'The max sequence length is: {max_length}, the average length is: {mean_length}')"
      ],
      "execution_count": 99,
      "outputs": [
        {
          "output_type": "stream",
          "text": [
            "The max sequence length is: 37, the average length is: 25.73\n"
          ],
          "name": "stdout"
        }
      ]
    },
    {
      "cell_type": "code",
      "metadata": {
        "colab": {
          "base_uri": "https://localhost:8080/",
          "height": 204
        },
        "id": "neQgQal7WO4Y",
        "outputId": "ce6c3357-b433-4469-f025-79e3d5255b2c"
      },
      "source": [
        "hydrophobicity = pepdata['hydrophobicity']\n",
        "padded_seq = pepdata['sequence'].apply(lambda x: x.ljust(max_length, 'X'))\n",
        "sequences_df = pd.DataFrame([padded_seq, hydrophobicity]).transpose()\n",
        "sequences_df.head()"
      ],
      "execution_count": 127,
      "outputs": [
        {
          "output_type": "execute_result",
          "data": {
            "text/html": [
              "<div>\n",
              "<style scoped>\n",
              "    .dataframe tbody tr th:only-of-type {\n",
              "        vertical-align: middle;\n",
              "    }\n",
              "\n",
              "    .dataframe tbody tr th {\n",
              "        vertical-align: top;\n",
              "    }\n",
              "\n",
              "    .dataframe thead th {\n",
              "        text-align: right;\n",
              "    }\n",
              "</style>\n",
              "<table border=\"1\" class=\"dataframe\">\n",
              "  <thead>\n",
              "    <tr style=\"text-align: right;\">\n",
              "      <th></th>\n",
              "      <th>sequence</th>\n",
              "      <th>hydrophobicity</th>\n",
              "    </tr>\n",
              "  </thead>\n",
              "  <tbody>\n",
              "    <tr>\n",
              "      <th>0</th>\n",
              "      <td>DAEFRHDSGYEVHHQKLVFFAEDVGSNKXXXXXXXXX</td>\n",
              "      <td>-0.9</td>\n",
              "    </tr>\n",
              "    <tr>\n",
              "      <th>1</th>\n",
              "      <td>SLDRSSCFTGSLDSIRAQSGLGCNSFRYXXXXXXXXX</td>\n",
              "      <td>-0.286</td>\n",
              "    </tr>\n",
              "    <tr>\n",
              "      <th>2</th>\n",
              "      <td>MISSVCVSSYRGRKSGNKPPSKTCLKEEMAXXXXXXX</td>\n",
              "      <td>-0.62</td>\n",
              "    </tr>\n",
              "    <tr>\n",
              "      <th>3</th>\n",
              "      <td>TRYLRIHPQSWVHQIALRMEVLXXXXXXXXXXXXXXX</td>\n",
              "      <td>-0.145</td>\n",
              "    </tr>\n",
              "    <tr>\n",
              "      <th>4</th>\n",
              "      <td>MPGTIKENIIGVSYDEYRYRSVIKAXXXXXXXXXXXX</td>\n",
              "      <td>-0.372</td>\n",
              "    </tr>\n",
              "  </tbody>\n",
              "</table>\n",
              "</div>"
            ],
            "text/plain": [
              "                                sequence hydrophobicity\n",
              "0  DAEFRHDSGYEVHHQKLVFFAEDVGSNKXXXXXXXXX           -0.9\n",
              "1  SLDRSSCFTGSLDSIRAQSGLGCNSFRYXXXXXXXXX         -0.286\n",
              "2  MISSVCVSSYRGRKSGNKPPSKTCLKEEMAXXXXXXX          -0.62\n",
              "3  TRYLRIHPQSWVHQIALRMEVLXXXXXXXXXXXXXXX         -0.145\n",
              "4  MPGTIKENIIGVSYDEYRYRSVIKAXXXXXXXXXXXX         -0.372"
            ]
          },
          "metadata": {
            "tags": []
          },
          "execution_count": 127
        }
      ]
    },
    {
      "cell_type": "code",
      "metadata": {
        "id": "j9Em9tdTpyXe"
      },
      "source": [
        "class AAIndexDataset(Dataset):\n",
        "    \"\"\"AAIndexDataset dataset.\"\"\"\n",
        "\n",
        "    def __init__(self, sequences, features, transform=None):\n",
        "        self.sequences = sequences\n",
        "        self.features = self.preprocess_sequences(features)\n",
        "\n",
        "    def preprocess_sequences(self, features):\n",
        "        aa_tensor = torch.zeros(100, 37, 5 + 8) # amount of sequences, sequence length, zScales + VHSE\n",
        "        for i, seq in enumerate(self.sequences['sequence']):\n",
        "          for j, aa in enumerate(seq):\n",
        "            values = []\n",
        "            for f in features:\n",
        "              for value in features[f]:\n",
        "                if aa != 'X':\n",
        "                  values.append(value[aa])\n",
        "                else:\n",
        "                  values.append(0.0)\n",
        "            aa_tensor[i][j] = torch.Tensor(values)\n",
        "        return aa_tensor\n",
        "\n",
        "    def __len__(self):\n",
        "        return len(self.sequences)\n",
        "\n",
        "    def __getitem__(self, idx):\n",
        "        x = self.features[idx]\n",
        "        x = x.view(1, -1)\n",
        "        y = torch.as_tensor(self.sequences.iloc[idx, 1])\n",
        "\n",
        "        return x, y"
      ],
      "execution_count": 179,
      "outputs": []
    },
    {
      "cell_type": "code",
      "metadata": {
        "id": "hBMmzdzUygPM"
      },
      "source": [
        "training_data = AAIndexDataset(sequences_df, features)\n",
        "loader = DataLoader(training_data, shuffle=False, batch_size=1)\n",
        "# For testing: x, y = next(iter(loader))"
      ],
      "execution_count": 180,
      "outputs": []
    },
    {
      "cell_type": "code",
      "metadata": {
        "id": "DRtp3pxizDKe"
      },
      "source": [
        "class SimpleNet(torch.nn.Module):\n",
        "  def __init__(self, num_features, num_hidden, num_output):\n",
        "      super(SimpleNet, self).__init__()\n",
        "      self.body = torch.nn.Sequential(\n",
        "        torch.nn.Linear(num_features, num_hidden),\n",
        "        torch.nn.ReLU(),\n",
        "        torch.nn.Linear(num_hidden, num_output),\n",
        "        torch.nn.Flatten(0, 1)\n",
        "      )\n",
        "      \n",
        "  def forward(self, x):\n",
        "      x = self.body(x)\n",
        "      return x"
      ],
      "execution_count": 181,
      "outputs": []
    },
    {
      "cell_type": "code",
      "metadata": {
        "id": "wCImsdXk13Qd"
      },
      "source": [
        "LR = 0.001\n",
        "EPOCHS = 100\n",
        "HIDDEN_DIM = 64"
      ],
      "execution_count": 182,
      "outputs": []
    },
    {
      "cell_type": "code",
      "metadata": {
        "id": "R2VYcBc61uSw"
      },
      "source": [
        "random_seed = 42\n",
        "criterion = nn.MSELoss() \n",
        "device = 'cuda' if torch.cuda.is_available() else 'cpu'\n",
        "model = SimpleNet(num_features=(37 * (8 + 5)), num_hidden=HIDDEN_DIM, num_output=1)\n",
        "optimizer = optim.Adam(model.parameters(), lr=LR) # weight_decay=5e-4"
      ],
      "execution_count": 183,
      "outputs": []
    },
    {
      "cell_type": "markdown",
      "metadata": {
        "id": "SxRWANFnL0dE"
      },
      "source": [
        "### W&B initialization"
      ]
    },
    {
      "cell_type": "code",
      "metadata": {
        "colab": {
          "base_uri": "https://localhost:8080/",
          "height": 204
        },
        "id": "QSilWp4iEQ7s",
        "outputId": "c3c52d1a-c945-4234-a938-7e1e5bdc3823"
      },
      "source": [
        "wandb.init(project='AAIndex', entity='aminoscape', config={'learning_rate': LR, 'hidden_dim': HIDDEN_DIM, 'architecture': 'FNN', 'num_epochs': EPOCHS})\n",
        "wandb.watch(model) # Start tracking your model's gradients"
      ],
      "execution_count": 184,
      "outputs": [
        {
          "output_type": "display_data",
          "data": {
            "application/javascript": [
              "\n",
              "        window._wandbApiKey = new Promise((resolve, reject) => {\n",
              "            function loadScript(url) {\n",
              "            return new Promise(function(resolve, reject) {\n",
              "                let newScript = document.createElement(\"script\");\n",
              "                newScript.onerror = reject;\n",
              "                newScript.onload = resolve;\n",
              "                document.body.appendChild(newScript);\n",
              "                newScript.src = url;\n",
              "            });\n",
              "            }\n",
              "            loadScript(\"https://cdn.jsdelivr.net/npm/postmate/build/postmate.min.js\").then(() => {\n",
              "            const iframe = document.createElement('iframe')\n",
              "            iframe.style.cssText = \"width:0;height:0;border:none\"\n",
              "            document.body.appendChild(iframe)\n",
              "            const handshake = new Postmate({\n",
              "                container: iframe,\n",
              "                url: 'https://wandb.ai/authorize'\n",
              "            });\n",
              "            const timeout = setTimeout(() => reject(\"Couldn't auto authenticate\"), 5000)\n",
              "            handshake.then(function(child) {\n",
              "                child.on('authorize', data => {\n",
              "                    clearTimeout(timeout)\n",
              "                    resolve(data)\n",
              "                });\n",
              "            });\n",
              "            })\n",
              "        });\n",
              "    "
            ],
            "text/plain": [
              "<IPython.core.display.Javascript object>"
            ]
          },
          "metadata": {
            "tags": []
          }
        },
        {
          "output_type": "stream",
          "text": [
            "\u001b[34m\u001b[1mwandb\u001b[0m: You can find your API key in your browser here: https://wandb.ai/authorize\n"
          ],
          "name": "stderr"
        },
        {
          "output_type": "stream",
          "text": [
            "wandb: Paste an API key from your profile and hit enter: ··········\n"
          ],
          "name": "stdout"
        },
        {
          "output_type": "stream",
          "text": [
            "\u001b[34m\u001b[1mwandb\u001b[0m: Appending key for api.wandb.ai to your netrc file: /root/.netrc\n"
          ],
          "name": "stderr"
        },
        {
          "output_type": "display_data",
          "data": {
            "text/html": [
              "\n",
              "                Tracking run with wandb version 0.12.0<br/>\n",
              "                Syncing run <strong style=\"color:#cdcd00\">cosmic-wave-2</strong> to <a href=\"https://wandb.ai\" target=\"_blank\">Weights & Biases</a> <a href=\"https://docs.wandb.com/integrations/jupyter.html\" target=\"_blank\">(Documentation)</a>.<br/>\n",
              "                Project page: <a href=\"https://wandb.ai/aminoscape/AAIndex\" target=\"_blank\">https://wandb.ai/aminoscape/AAIndex</a><br/>\n",
              "                Run page: <a href=\"https://wandb.ai/aminoscape/AAIndex/runs/2ea1b1a9\" target=\"_blank\">https://wandb.ai/aminoscape/AAIndex/runs/2ea1b1a9</a><br/>\n",
              "                Run data is saved locally in <code>/content/wandb/run-20210812_081815-2ea1b1a9</code><br/><br/>\n",
              "            "
            ],
            "text/plain": [
              "<IPython.core.display.HTML object>"
            ]
          },
          "metadata": {
            "tags": []
          }
        },
        {
          "output_type": "execute_result",
          "data": {
            "text/plain": [
              "[]"
            ]
          },
          "metadata": {
            "tags": []
          },
          "execution_count": 184
        }
      ]
    },
    {
      "cell_type": "markdown",
      "metadata": {
        "id": "PoM6O3QWL6YI"
      },
      "source": [
        "### Training loop"
      ]
    },
    {
      "cell_type": "code",
      "metadata": {
        "id": "On0z4yMP2KK2"
      },
      "source": [
        "def graph_losses(loss, num_epochs):\n",
        "  plt.plot(range(1, num_epochs + 1), loss, 'r--')\n",
        "  plt.legend([f'Training Loss'])\n",
        "  plt.xlabel('Epoch')\n",
        "  plt.ylabel('Loss')\n",
        "  plt.show() "
      ],
      "execution_count": 185,
      "outputs": []
    },
    {
      "cell_type": "code",
      "metadata": {
        "id": "qBxsPFo-3Aa6"
      },
      "source": [
        "def train(num_epochs=100):\n",
        "  torch.manual_seed(random_seed)\n",
        "  model.train()\n",
        "  average_loss = []\n",
        "  for e, _ in tqdm(enumerate(loader), position=0, leave=True):\n",
        "    running_loss = 0\n",
        "    for idx, (x, y) in enumerate(loader):\n",
        "      x = x.to(device)\n",
        "      y = y.to(device)\n",
        "      optimizer.zero_grad()\n",
        "      output = model(x) # output shape: torch.Size([1, 37, 1])\n",
        "      loss = criterion(output, y)\n",
        "      running_loss += loss.item()\n",
        "      wandb.log({\"timestep_loss\": loss.item()})\n",
        "      loss.backward()\n",
        "      optimizer.step()\n",
        "\n",
        "    running_average = running_loss/len(loader)\n",
        "    average_loss.append(running_average)\n",
        "    wandb.log({\"epoch_loss\": running_average})\n",
        "\n",
        "    if e % 10 == 0:\n",
        "        print(f'Epoch: {e}, Epoch loss: {average_loss[-1]}')\n",
        "\n",
        "  graph_losses(average_loss, num_epochs)"
      ],
      "execution_count": 186,
      "outputs": []
    },
    {
      "cell_type": "code",
      "metadata": {
        "colab": {
          "base_uri": "https://localhost:8080/",
          "height": 1000,
          "referenced_widgets": [
            "b3b3c982109e492692bbb0711b4e482f",
            "aa2a191597ef4013aabdcd2eb774f9ba",
            "e8e15d4ef46943cab8f9ad82d1e72a77",
            "db5a3e8bb349405cb95523127a7b1bf2",
            "b2027f2b05934f9a9b50144b29f3ef7d",
            "e8a4013cf20741e3b7e98d57ccf47e86",
            "e0357746b24847d4ba8147cec55eece6",
            "e85fb77143ca4f119f90a01a48d39aa9"
          ]
        },
        "id": "y-44cxgB5LW4",
        "outputId": "efe3001c-fa16-420a-ba65-6f92570038ca"
      },
      "source": [
        "train(EPOCHS)\n",
        "wandb.finish()"
      ],
      "execution_count": 187,
      "outputs": [
        {
          "output_type": "stream",
          "text": [
            "\r0it [00:00, ?it/s]/usr/local/lib/python3.7/dist-packages/torch/nn/modules/loss.py:528: UserWarning: Using a target size (torch.Size([1])) that is different to the input size (torch.Size([1, 1])). This will likely lead to incorrect results due to broadcasting. Please ensure they have the same size.\n",
            "  return F.mse_loss(input, target, reduction=self.reduction)\n",
            "1it [00:00,  3.91it/s]"
          ],
          "name": "stderr"
        },
        {
          "output_type": "stream",
          "text": [
            "Epoch: 0, Epoch loss: 0.35262651271871165\n"
          ],
          "name": "stdout"
        },
        {
          "output_type": "stream",
          "text": [
            "11it [00:02,  4.00it/s]"
          ],
          "name": "stderr"
        },
        {
          "output_type": "stream",
          "text": [
            "Epoch: 10, Epoch loss: 0.0286573088606832\n"
          ],
          "name": "stdout"
        },
        {
          "output_type": "stream",
          "text": [
            "21it [00:05,  4.32it/s]"
          ],
          "name": "stderr"
        },
        {
          "output_type": "stream",
          "text": [
            "Epoch: 20, Epoch loss: 0.02205263177501793\n"
          ],
          "name": "stdout"
        },
        {
          "output_type": "stream",
          "text": [
            "31it [00:07,  4.21it/s]"
          ],
          "name": "stderr"
        },
        {
          "output_type": "stream",
          "text": [
            "Epoch: 30, Epoch loss: 0.026728783806208866\n"
          ],
          "name": "stdout"
        },
        {
          "output_type": "stream",
          "text": [
            "41it [00:09,  4.26it/s]"
          ],
          "name": "stderr"
        },
        {
          "output_type": "stream",
          "text": [
            "Epoch: 40, Epoch loss: 0.024421485692384975\n"
          ],
          "name": "stdout"
        },
        {
          "output_type": "stream",
          "text": [
            "51it [00:11,  4.63it/s]"
          ],
          "name": "stderr"
        },
        {
          "output_type": "stream",
          "text": [
            "Epoch: 50, Epoch loss: 0.008986936716083846\n"
          ],
          "name": "stdout"
        },
        {
          "output_type": "stream",
          "text": [
            "61it [00:13,  4.39it/s]"
          ],
          "name": "stderr"
        },
        {
          "output_type": "stream",
          "text": [
            "Epoch: 60, Epoch loss: 0.010450116564101108\n"
          ],
          "name": "stdout"
        },
        {
          "output_type": "stream",
          "text": [
            "71it [00:16,  4.27it/s]"
          ],
          "name": "stderr"
        },
        {
          "output_type": "stream",
          "text": [
            "Epoch: 70, Epoch loss: 0.014004610665616611\n"
          ],
          "name": "stdout"
        },
        {
          "output_type": "stream",
          "text": [
            "81it [00:18,  4.07it/s]"
          ],
          "name": "stderr"
        },
        {
          "output_type": "stream",
          "text": [
            "Epoch: 80, Epoch loss: 0.013117778008265475\n"
          ],
          "name": "stdout"
        },
        {
          "output_type": "stream",
          "text": [
            "91it [00:21,  3.74it/s]"
          ],
          "name": "stderr"
        },
        {
          "output_type": "stream",
          "text": [
            "Epoch: 90, Epoch loss: 0.014974314508599491\n"
          ],
          "name": "stdout"
        },
        {
          "output_type": "stream",
          "text": [
            "100it [00:23,  4.20it/s]\n"
          ],
          "name": "stderr"
        },
        {
          "output_type": "display_data",
          "data": {
            "image/png": "[encoded data removed]",
            "text/plain": [
              "<Figure size 432x288 with 1 Axes>"
            ]
          },
          "metadata": {
            "tags": [],
            "needs_background": "light"
          }
        },
        {
          "output_type": "display_data",
          "data": {
            "text/html": [
              "<br/>Waiting for W&B process to finish, PID 1007<br/>Program ended successfully."
            ],
            "text/plain": [
              "<IPython.core.display.HTML object>"
            ]
          },
          "metadata": {
            "tags": []
          }
        },
        {
          "output_type": "display_data",
          "data": {
            "application/vnd.jupyter.widget-view+json": {
              "model_id": "b3b3c982109e492692bbb0711b4e482f",
              "version_minor": 0,
              "version_major": 2
            },
            "text/plain": [
              "VBox(children=(Label(value=' 0.00MB of 0.00MB uploaded (0.00MB deduped)\\r'), FloatProgress(value=1.0, max=1.0)…"
            ]
          },
          "metadata": {
            "tags": []
          }
        },
        {
          "output_type": "display_data",
          "data": {
            "text/html": [
              "Find user logs for this run at: <code>/content/wandb/run-20210812_081815-2ea1b1a9/logs/debug.log</code>"
            ],
            "text/plain": [
              "<IPython.core.display.HTML object>"
            ]
          },
          "metadata": {
            "tags": []
          }
        },
        {
          "output_type": "display_data",
          "data": {
            "text/html": [
              "Find internal logs for this run at: <code>/content/wandb/run-20210812_081815-2ea1b1a9/logs/debug-internal.log</code>"
            ],
            "text/plain": [
              "<IPython.core.display.HTML object>"
            ]
          },
          "metadata": {
            "tags": []
          }
        },
        {
          "output_type": "display_data",
          "data": {
            "text/html": [
              "<h3>Run summary:</h3><br/><style>\n",
              "    table.wandb td:nth-child(1) { padding: 0 10px; text-align: right }\n",
              "    </style><table class=\"wandb\">\n",
              "<tr><td>timestep_loss</td><td>0.00616</td></tr><tr><td>_runtime</td><td>44</td></tr><tr><td>_timestamp</td><td>1628756339</td></tr><tr><td>_step</td><td>10099</td></tr><tr><td>epoch_loss</td><td>0.01083</td></tr></table>"
            ],
            "text/plain": [
              "<IPython.core.display.HTML object>"
            ]
          },
          "metadata": {
            "tags": []
          }
        },
        {
          "output_type": "display_data",
          "data": {
            "text/html": [
              "<h3>Run history:</h3><br/><style>\n",
              "    table.wandb td:nth-child(1) { padding: 0 10px; text-align: right }\n",
              "    </style><table class=\"wandb\">\n",
              "<tr><td>timestep_loss</td><td>█▂▂▁▁▂▃▁▁▂▁▁▃▁▂▁▁▂▁▁▁▃▁▁▁▁▁▁▁▁▁▁▁▁▁▁▁▁▁▁</td></tr><tr><td>_runtime</td><td>▁▁▁▂▂▂▂▂▂▃▃▃▃▃▃▄▄▄▄▄▅▅▅▅▅▅▅▆▆▆▆▆▇▇▇▇▇▇██</td></tr><tr><td>_timestamp</td><td>▁▁▁▂▂▂▂▂▂▃▃▃▃▃▃▄▄▄▄▄▅▅▅▅▅▅▅▆▆▆▆▆▇▇▇▇▇▇██</td></tr><tr><td>_step</td><td>▁▁▁▁▂▂▂▂▂▃▃▃▃▃▃▄▄▄▄▄▅▅▅▅▅▅▆▆▆▆▆▇▇▇▇▇▇███</td></tr><tr><td>epoch_loss</td><td>█▃▁▁▁▁▁▁▁▁▂▁▁▁▁▁▁▁▁▁▁▁▁▁▁▁▁▁▁▁▁▁▁▁▁▁▁▁▁▁</td></tr></table><br/>"
            ],
            "text/plain": [
              "<IPython.core.display.HTML object>"
            ]
          },
          "metadata": {
            "tags": []
          }
        },
        {
          "output_type": "display_data",
          "data": {
            "text/html": [
              "Synced 5 W&B file(s), 0 media file(s), 0 artifact file(s) and 0 other file(s)"
            ],
            "text/plain": [
              "<IPython.core.display.HTML object>"
            ]
          },
          "metadata": {
            "tags": []
          }
        },
        {
          "output_type": "display_data",
          "data": {
            "text/html": [
              "\n",
              "                    <br/>Synced <strong style=\"color:#cdcd00\">cosmic-wave-2</strong>: <a href=\"https://wandb.ai/aminoscape/AAIndex/runs/2ea1b1a9\" target=\"_blank\">https://wandb.ai/aminoscape/AAIndex/runs/2ea1b1a9</a><br/>\n",
              "                "
            ],
            "text/plain": [
              "<IPython.core.display.HTML object>"
            ]
          },
          "metadata": {
            "tags": []
          }
        }
      ]
    },
    {
      "cell_type": "code",
      "metadata": {
        "id": "4x8x6kcr5MkL"
      },
      "source": [
        ""
      ],
      "execution_count": null,
      "outputs": []
    }
  ]
}